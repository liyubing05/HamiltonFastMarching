{
 "cells": [
  {
   "cell_type": "markdown",
   "metadata": {},
   "source": [
    "# Adaptive grid discretizations\n",
    "## A set of tools for discretizing anisotropic PDEs on cartesian grids\n",
    "# Volume : Reproducible research"
   ]
  },
  {
   "cell_type": "markdown",
   "metadata": {},
   "source": [
    "This collection of notebooks allows to reproduce (some of) the numerical experiments, presented in (some of) my papers. It is provided in the spirit of reproducible research, and they may be regarded as companion material for the corresponding papers.\n",
    "\n",
    "However, these notebooks should not be considered as standalone material. We refer to the the other folders for material which is:\n",
    "* Pedagogical and mathematically introduced. Here the mathematical notions are to be found in the companion paper. \n",
    "* Has reasonable computation times. Here the intent is to produce neat results, for publication, hence we allow ourselves more substantial computation times than in the other notebooks which are intended for interactivity.\n",
    "\n",
    "**Note : this series is currently empty**"
   ]
  },
  {
   "cell_type": "markdown",
   "metadata": {},
   "source": [
    "**Github repository** to run and modify the examples on your computer.\n",
    "[AdaptiveGridDiscretizations](https://github.com/Mirebeau/AdaptiveGridDiscretizations)\n",
    "\n",
    "\n",
    "# Table of contents\n",
    "[**Main summary**](../Summary.ipynb), including the other volumes of this work. "
   ]
  },
  {
   "cell_type": "code",
   "execution_count": 2,
   "metadata": {},
   "outputs": [],
   "source": [
    "#import sys; sys.path.append(\"..\") # Allow imports from parent directory\n",
    "#from Miscellaneous import TocTools; print(TocTools.displayTOCs('Repro'))"
   ]
  }
 ],
 "metadata": {
  "kernelspec": {
   "display_name": "Python 3",
   "language": "python",
   "name": "python3"
  },
  "language_info": {
   "codemirror_mode": {
    "name": "ipython",
    "version": 3
   },
   "file_extension": ".py",
   "mimetype": "text/x-python",
   "name": "python",
   "nbconvert_exporter": "python",
   "pygments_lexer": "ipython3",
   "version": "3.7.3"
  }
 },
 "nbformat": 4,
 "nbformat_minor": 2
}
