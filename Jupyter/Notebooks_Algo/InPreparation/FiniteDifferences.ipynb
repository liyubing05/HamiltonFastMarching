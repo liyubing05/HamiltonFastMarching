{
 "cells": [
  {
   "cell_type": "markdown",
   "metadata": {},
   "source": [
    "# Adaptive PDE discretizations on cartesian grids\n",
    "## Volume : Algorithmic tools\n",
    "## Part : Domain representation\n",
    "## Chapter : Finite differences"
   ]
  },
  {
   "cell_type": "markdown",
   "metadata": {},
   "source": [
    "This notebook presents the basic types of finite differences that can be considered on a cartesian grid. "
   ]
  },
  {
   "cell_type": "markdown",
   "metadata": {},
   "source": [
    "## 0. Import the required libraries"
   ]
  },
  {
   "cell_type": "code",
   "execution_count": 66,
   "metadata": {},
   "outputs": [
    {
     "name": "stdout",
     "output_type": "stream",
     "text": [
      "[**Summary**](Summary.ipynb) of volume Algorithmic tools, this series of notebooks.\n",
      "\n",
      "[**Main summary**](../Summary.ipynb) of the Adaptive Grid Discretizations \n",
      "\tbook of notebooks, including the other volumes.\n",
      "\n",
      "# Table of contents\n",
      "  * [1. Degenerate elliptic finite differences](#1.-Degenerate-elliptic-finite-differences)\n",
      "    * [1.1 Upwind finite differences](#1.1-Upwind-finite-differences)\n",
      "    * [1.2 Second order finite differences](#1.2-Second-order-finite-differences)\n",
      "  * [2. Non degenerate elliptic finite differences](#2.-Non-degenerate-elliptic-finite-differences)\n",
      "    * [2.1 Centered finite differences](#2.1-Centered-finite-differences)\n",
      "    * [2.2 High order upwind finite differences](#2.2-High-order-upwind-finite-differences)\n",
      "  * [3. Composite finite differences](#3.-Composite-finite-differences)\n",
      "    * [3.1 Gradient](#3.1-Gradient)\n",
      "    * [3.2 Hessian](#3.2-Hessian)\n",
      "\n",
      "\n",
      "\n",
      "**Acknowledgement.** The experiments presented in these notebooks are part of ongoing research, \n",
      "some of it with PhD student Guillaume Bonnet, in co-direction with Frederic Bonnans.\n",
      "\n",
      "Copyright Jean-Marie Mirebeau, University Paris-Sud, CNRS, University Paris-Saclay\n",
      "\n"
     ]
    }
   ],
   "source": [
    "import sys; sys.path.append(\"../..\") # Allow imports from parent directory\n",
    "from Miscellaneous import TocTools; print(TocTools.displayTOC('FiniteDifferences','Algo'))"
   ]
  },
  {
   "cell_type": "code",
   "execution_count": 7,
   "metadata": {},
   "outputs": [],
   "source": [
    "from NumericalSchemes import FiniteDifferences as fd"
   ]
  },
  {
   "cell_type": "code",
   "execution_count": 9,
   "metadata": {},
   "outputs": [],
   "source": [
    "import numpy as np"
   ]
  },
  {
   "cell_type": "code",
   "execution_count": 16,
   "metadata": {},
   "outputs": [],
   "source": [
    "def reload_packages():\n",
    "    import importlib\n",
    "    fd = importlib.reload(sys.modules['NumericalSchemes.FiniteDifferences'])"
   ]
  },
  {
   "cell_type": "markdown",
   "metadata": {},
   "source": [
    "## 1. Degenerate elliptic finite differences"
   ]
  },
  {
   "cell_type": "code",
   "execution_count": 56,
   "metadata": {},
   "outputs": [],
   "source": [
    "aX = np.linspace(0,1)\n",
    "X=np.array(np.meshgrid(aX,aX,indexing='ij'))\n",
    "h=aX[1]-aX[0]\n",
    "\n",
    "u_lin = X[0]+2*X[1]\n",
    "u_quad = 0.5*(X[0]**2+2*(2*X[0]*X[1])+3*X[1]**2)\n",
    "\n",
    "interior = np.full(X[0].shape,False)\n",
    "interior[1:-1,1:-1]=True"
   ]
  },
  {
   "cell_type": "markdown",
   "metadata": {},
   "source": [
    "### 1.1 Upwind finite differences"
   ]
  },
  {
   "cell_type": "markdown",
   "metadata": {},
   "source": [
    "### 1.2 Second order finite differences"
   ]
  },
  {
   "cell_type": "markdown",
   "metadata": {},
   "source": [
    "## 2. Non degenerate elliptic finite differences"
   ]
  },
  {
   "cell_type": "markdown",
   "metadata": {},
   "source": [
    "### 2.1 Centered finite differences"
   ]
  },
  {
   "cell_type": "markdown",
   "metadata": {},
   "source": [
    "### 2.2 High order upwind finite differences"
   ]
  },
  {
   "cell_type": "code",
   "execution_count": 61,
   "metadata": {},
   "outputs": [],
   "source": [
    "du = fd.DiffUpwind2(u_lin,(1,0),gridScale=h)"
   ]
  },
  {
   "cell_type": "code",
   "execution_count": 62,
   "metadata": {},
   "outputs": [
    {
     "data": {
      "text/plain": [
       "1.0000000000000036"
      ]
     },
     "execution_count": 62,
     "metadata": {},
     "output_type": "execute_result"
    }
   ],
   "source": [
    "du[5,5]"
   ]
  },
  {
   "cell_type": "code",
   "execution_count": 63,
   "metadata": {},
   "outputs": [],
   "source": [
    "du = fd.DiffUpwind3(u_lin,(1,0),gridScale=h)"
   ]
  },
  {
   "cell_type": "code",
   "execution_count": 64,
   "metadata": {},
   "outputs": [
    {
     "data": {
      "text/plain": [
       "0.9999999999999964"
      ]
     },
     "execution_count": 64,
     "metadata": {},
     "output_type": "execute_result"
    }
   ],
   "source": [
    "du[5,5]"
   ]
  },
  {
   "cell_type": "markdown",
   "metadata": {},
   "source": [
    "## 3. Composite finite differences"
   ]
  },
  {
   "cell_type": "markdown",
   "metadata": {},
   "source": [
    "### 3.1 Gradient"
   ]
  },
  {
   "cell_type": "code",
   "execution_count": 57,
   "metadata": {},
   "outputs": [],
   "source": [
    "grad = fd.DiffGradient(u_lin,gridScale=h)"
   ]
  },
  {
   "cell_type": "code",
   "execution_count": 58,
   "metadata": {},
   "outputs": [
    {
     "data": {
      "text/plain": [
       "(2, 50, 50)"
      ]
     },
     "execution_count": 58,
     "metadata": {},
     "output_type": "execute_result"
    }
   ],
   "source": [
    "grad.shape"
   ]
  },
  {
   "cell_type": "code",
   "execution_count": 59,
   "metadata": {},
   "outputs": [
    {
     "data": {
      "text/plain": [
       "array([1., 2.])"
      ]
     },
     "execution_count": 59,
     "metadata": {},
     "output_type": "execute_result"
    }
   ],
   "source": [
    "grad[:,5,5]"
   ]
  },
  {
   "cell_type": "markdown",
   "metadata": {},
   "source": [
    "### 3.2 Hessian"
   ]
  },
  {
   "cell_type": "code",
   "execution_count": 53,
   "metadata": {},
   "outputs": [],
   "source": [
    "hess = fd.DiffHessian(u_quad,gridScale=h)"
   ]
  },
  {
   "cell_type": "code",
   "execution_count": 55,
   "metadata": {},
   "outputs": [
    {
     "data": {
      "text/plain": [
       "(2, 2, 50, 50)"
      ]
     },
     "execution_count": 55,
     "metadata": {},
     "output_type": "execute_result"
    }
   ],
   "source": [
    "hess.shape"
   ]
  },
  {
   "cell_type": "code",
   "execution_count": 54,
   "metadata": {},
   "outputs": [
    {
     "data": {
      "text/plain": [
       "array([[1., 2.],\n",
       "       [2., 3.]])"
      ]
     },
     "execution_count": 54,
     "metadata": {},
     "output_type": "execute_result"
    }
   ],
   "source": [
    "hess[:,:,5,5]"
   ]
  }
 ],
 "metadata": {
  "kernelspec": {
   "display_name": "Python 3",
   "language": "python",
   "name": "python3"
  },
  "language_info": {
   "codemirror_mode": {
    "name": "ipython",
    "version": 3
   },
   "file_extension": ".py",
   "mimetype": "text/x-python",
   "name": "python",
   "nbconvert_exporter": "python",
   "pygments_lexer": "ipython3",
   "version": "3.7.3"
  }
 },
 "nbformat": 4,
 "nbformat_minor": 2
}
