{
 "cells": [
  {
   "cell_type": "markdown",
   "metadata": {},
   "source": [
    "# Testing rreload and parallel threads"
   ]
  },
  {
   "cell_type": "markdown",
   "metadata": {},
   "source": [
    "For now, not fully conclusive due to multiple reloads which raise issues with class signatures."
   ]
  },
  {
   "cell_type": "markdown",
   "metadata": {},
   "source": [
    "## 0. Imports"
   ]
  },
  {
   "cell_type": "code",
   "execution_count": 1,
   "metadata": {},
   "outputs": [],
   "source": [
    "import sys; sys.path.insert(0,\"../..\") # Allow import of agd from parent directory (useless if conda package installed)\n",
    "#from Miscellaneous import TocTools; print(TocTools.displayTOC('SensitivitySL','FMM'))"
   ]
  },
  {
   "cell_type": "code",
   "execution_count": 2,
   "metadata": {},
   "outputs": [],
   "source": [
    "from agd import Metrics\n",
    "from agd.Metrics import Seismic\n",
    "from agd.Metrics import Riemann\n",
    "from agd import AutomaticDifferentiation as ad"
   ]
  },
  {
   "cell_type": "code",
   "execution_count": 3,
   "metadata": {},
   "outputs": [],
   "source": [
    "import numpy as np\n",
    "from types import ModuleType\n",
    "import os"
   ]
  },
  {
   "cell_type": "code",
   "execution_count": 4,
   "metadata": {},
   "outputs": [
    {
     "data": {
      "text/plain": [
       "'foo/bar'"
      ]
     },
     "execution_count": 4,
     "metadata": {},
     "output_type": "execute_result"
    }
   ],
   "source": [
    "os.path.join(\"foo\",\"bar\")"
   ]
  },
  {
   "cell_type": "code",
   "execution_count": 5,
   "metadata": {},
   "outputs": [],
   "source": [
    "def reload_packages():\n",
    "    # Far from perfect (incompatibility due to multiple independent reloads giving different class signature)\n",
    "    from Miscellaneous import agd_all\n",
    "    print(agd_all.rreload(agd_all,agd_all.agd_subdirs(\"../..\")))\n",
    "    \n",
    "    global Metrics; Metrics = agd_all.Metrics\n",
    "    global Riemann; Riemann = agd_all.Metrics.Riemann\n",
    "    global Seismic; Seismic = agd_all.Seismic\n",
    "    \n",
    "    return"
   ]
  },
  {
   "cell_type": "markdown",
   "metadata": {},
   "source": [
    "## 1. rreload"
   ]
  },
  {
   "cell_type": "code",
   "execution_count": 11,
   "metadata": {},
   "outputs": [
    {
     "name": "stdout",
     "output_type": "stream",
     "text": [
      "['Miscellaneous.agd_all', 'agd.AutomaticDifferentiation', 'agd.AutomaticDifferentiation.Dense', 'agd.AutomaticDifferentiation.misc', 'agd.AutomaticDifferentiation.misc', 'agd.AutomaticDifferentiation.Dense2', 'agd.AutomaticDifferentiation.Dense', 'agd.AutomaticDifferentiation.misc', 'agd.AutomaticDifferentiation.Optimization', 'agd.AutomaticDifferentiation.Dense', 'agd.AutomaticDifferentiation.Sparse', 'agd.AutomaticDifferentiation.Dense', 'agd.AutomaticDifferentiation.misc', 'agd.AutomaticDifferentiation.Reverse', 'agd.AutomaticDifferentiation.Sparse', 'agd.AutomaticDifferentiation.misc', 'agd.AutomaticDifferentiation.Reverse2', 'agd.AutomaticDifferentiation.Dense', 'agd.AutomaticDifferentiation.Reverse', 'agd.AutomaticDifferentiation.Sparse', 'agd.AutomaticDifferentiation.Sparse2', 'agd.AutomaticDifferentiation.Dense2', 'agd.AutomaticDifferentiation.Sparse', 'agd.AutomaticDifferentiation.misc', 'agd.AutomaticDifferentiation.misc', 'agd.AutomaticDifferentiation.Sparse', 'agd.AutomaticDifferentiation.Sparse2', 'agd.AutomaticDifferentiation.misc', 'agd.HFMUtils', 'agd.HFMUtils.run_detail', 'agd.HFMUtils.LibraryCall', 'agd.Metrics', 'agd.Metrics.asym_quad', 'agd.Metrics.base', 'agd.AutomaticDifferentiation', 'agd.Metrics.rander', 'agd.Metrics.riemann', 'agd.Metrics.isotropic', 'agd.AutomaticDifferentiation', 'agd.AutomaticDifferentiation', 'agd.Metrics.misc', 'agd.AutomaticDifferentiation', 'agd.AutomaticDifferentiation', 'agd.FiniteDifferences', 'agd.AutomaticDifferentiation', 'agd.Metrics.misc', 'agd.AutomaticDifferentiation', 'agd.Metrics.misc', 'agd.Metrics.Seismic', 'agd.Metrics.Seismic.hooke', 'agd.Metrics.Seismic.implicit_base', 'agd.AutomaticDifferentiation', 'agd.AutomaticDifferentiation', 'agd.Metrics.misc', 'agd.Metrics.Seismic.reduced', 'agd.AutomaticDifferentiation', 'agd.Metrics.Seismic.hooke', 'agd.Metrics.Seismic.implicit_base', 'agd.Metrics.Seismic.reduced', 'agd.Metrics.asym_quad', 'agd.Metrics.base', 'agd.Metrics.isotropic', 'agd.Metrics.misc', 'agd.Metrics.rander', 'agd.Metrics.riemann', 'agd.HFMUtils.Grid', 'agd.AutomaticDifferentiation', 'agd.HFMUtils.Grid', 'agd.HFMUtils.LibraryCall', 'agd.HFMUtils.run_detail', 'agd.Metrics', 'agd.Metrics.Seismic']\n"
     ]
    }
   ],
   "source": [
    "reload_packages()"
   ]
  },
  {
   "cell_type": "code",
   "execution_count": 7,
   "metadata": {},
   "outputs": [
    {
     "name": "stdout",
     "output_type": "stream",
     "text": [
      "hallo Hooke\n"
     ]
    }
   ],
   "source": [
    "hk = Seismic.Hooke(np.eye(3))"
   ]
  },
  {
   "cell_type": "code",
   "execution_count": 8,
   "metadata": {},
   "outputs": [
    {
     "name": "stdout",
     "output_type": "stream",
     "text": [
      "Hullo Riemann\n"
     ]
    }
   ],
   "source": [
    "riem = Riemann(np.eye(2))"
   ]
  },
  {
   "cell_type": "code",
   "execution_count": 10,
   "metadata": {},
   "outputs": [],
   "source": [
    "Seismic.Hooke.from_cast(riem) # Fails"
   ]
  },
  {
   "cell_type": "code",
   "execution_count": null,
   "metadata": {},
   "outputs": [],
   "source": []
  }
 ],
 "metadata": {
  "kernelspec": {
   "display_name": "Python 3",
   "language": "python",
   "name": "python3"
  },
  "language_info": {
   "codemirror_mode": {
    "name": "ipython",
    "version": 3
   },
   "file_extension": ".py",
   "mimetype": "text/x-python",
   "name": "python",
   "nbconvert_exporter": "python",
   "pygments_lexer": "ipython3",
   "version": "3.7.3"
  }
 },
 "nbformat": 4,
 "nbformat_minor": 2
}
