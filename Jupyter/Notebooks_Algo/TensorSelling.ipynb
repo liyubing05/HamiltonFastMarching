{
 "cells": [
  {
   "cell_type": "markdown",
   "metadata": {},
   "source": [
    "# Adaptive PDE discretizations on cartesian grids\n",
    "## Volume : Algorithmic tools\n",
    "## Part : Tensor decomposition techniques\n",
    "## Chapter : Selling's algorithm, in dimension 2 and 3\n",
    "\n",
    "This notebook presents some tensor decomposition techniques that are at the foundation of our anisotropic PDE discretizations on cartesian grids. The general objective is to write a given symmetric positive definite matrix $D$ under the form\n",
    "$$\n",
    "    D = \\sum_{0 \\leq i < I} \\lambda_i e_i e_i^T. \n",
    "$$\n",
    "From this point, various numerical schemes can be designed, for both first order and second order, and both linear and non-linear PDEs.\n",
    "\n",
    "The techniques used for constructing the above decomposition are non-trivial, and are related to classical yet subtle tools of discrete geometry. This notebook is meant to illustrate some of their properties.\n",
    "\n",
    "This notebook is limited to dimensions $d\\in \\{2,3\\}$. Tensor decomposition in dimension $d \\in \\{4,5\\}$ requires another set of techniques (and in practice the call to a c++ library), which are discussed in [II Tensor decomposition, dimensions 4 and 5](http://nbviewer.jupyter.org/urls/rawgithub.com/Mirebeau/AdaptiveGridDiscretizations/master/Notebooks/TensorVoronoi.ipynb)\n",
    "\n",
    "**References**\n",
    "\n",
    "The tensor decomposition presented in this notebook is a central ingredient of the following paper:\n",
    "\n",
    "Fehrenbach, J., & Mirebeau, J.-M. (2014). Sparse non-negative stencils for anisotropic diffusion. Journal of Mathematical Imaging and Vision, 49(1), 123–147. http://doi.org/http://dx.doi.org/10.1007/s10851-013-0446-3\n"
   ]
  },
  {
   "cell_type": "markdown",
   "metadata": {},
   "source": [
    "[**Summary**](Summary.ipynb) of volume Algorithmic tools, this series of notebooks.\n",
    "\n",
    "[**Main summary**](../Summary.ipynb) of the Adaptive Grid Discretizations \n",
    "\tbook of notebooks, including the other volumes.\n",
    "\n",
    "# Table of contents\n",
    "  * [1. Decomposing a tensor, or a tensor field](#1.-Decomposing-a-tensor,-or-a-tensor-field)\n",
    "    * [1.1 Case of a $2\\times 2$ matrix](#1.1-Case-of-a-$2\\times-2$-matrix)\n",
    "    * [1.2 Case of a $3 \\times 3$ matrix.](#1.2-Case-of-a-$3-\\times-3$-matrix.)\n",
    "    * [1.3 Case of (extremely) strong anisotropy](#1.3-Case-of-(extremely)-strong-anisotropy)\n",
    "    * [1.4 Decomposition a field of symmetric tensors](#1.4-Decomposition-a-field-of-symmetric-tensors)\n",
    "  * [2. Under the hood : obtuse superbases](#2.-Under-the-hood-:-obtuse-superbases)\n",
    "    * [2.1 Two dimensions](#2.1-Two-dimensions)\n",
    "    * [2.2 Three dimensions](#2.2-Three-dimensions)\n",
    "  * [3. Properties of the decomposition](#3.-Properties-of-the-decomposition)\n",
    "    * [3.1 Offsets smallness](#3.1-Offsets-smallness)\n",
    "    * [3.2 Stability](#3.2-Stability)\n",
    "    * [3.3 Spanning property (no chessboard artifacts)](#3.3-Spanning-property-(no-chessboard-artifacts))\n",
    "\n",
    "\n",
    "\n",
    "**Acknowledgement.** The experiments presented in these notebooks are part of ongoing research, \n",
    "some of it with PhD student Guillaume Bonnet, in co-direction with Frederic Bonnans.\n",
    "\n",
    "Copyright Jean-Marie Mirebeau, University Paris-Sud, CNRS, University Paris-Saclay\n"
   ]
  },
  {
   "cell_type": "markdown",
   "metadata": {},
   "source": [
    "## 0. Importing the required libraries"
   ]
  },
  {
   "cell_type": "code",
   "execution_count": null,
   "metadata": {},
   "outputs": [],
   "source": [
    "import sys; sys.path.insert(0,\"..\") # Allow import of agd from parent directory (useless if conda package installed)\n",
    "#from Miscellaneous import TocTools; TocTools.displayTOC('TensorSelling','Algo')"
   ]
  },
  {
   "cell_type": "code",
   "execution_count": 3,
   "metadata": {},
   "outputs": [],
   "source": [
    "from agd import LinearParallel as lp\n",
    "from agd import Selling"
   ]
  },
  {
   "cell_type": "markdown",
   "metadata": {},
   "source": [
    "The library imported as **lp** is a set of routines meant to facilitate the manipulation of *numerous small vectors and matrices* simultaneously. It is based on numpy and implements  only a small number of linear algebra tools."
   ]
  },
  {
   "cell_type": "code",
   "execution_count": 4,
   "metadata": {},
   "outputs": [],
   "source": [
    "import numpy as np\n",
    "import matplotlib.pyplot as plt\n",
    "%matplotlib inline"
   ]
  },
  {
   "cell_type": "code",
   "execution_count": 5,
   "metadata": {},
   "outputs": [],
   "source": [
    "import importlib\n",
    "lp=importlib.reload(lp)\n",
    "Selling = importlib.reload(Selling)"
   ]
  },
  {
   "cell_type": "markdown",
   "metadata": {},
   "source": [
    "## 1. Decomposing a tensor, or a tensor field\n",
    "\n",
    "In order to illustrate our tensor decomposition facilities, we will rely on randomly generated *symmetric positive definite* tensors. They are built as \n",
    "$$\n",
    "    M = A^T A\n",
    "$$\n",
    "where $A$ has normalized random gaussian entries."
   ]
  },
  {
   "cell_type": "code",
   "execution_count": 4,
   "metadata": {},
   "outputs": [],
   "source": [
    "def MakeRandomTensor(dim,shape = tuple()):\n",
    "    A = np.random.standard_normal( (dim,dim) + shape )\n",
    "    return lp.dot_AA(lp.transpose(A),A)"
   ]
  },
  {
   "cell_type": "code",
   "execution_count": 5,
   "metadata": {},
   "outputs": [],
   "source": [
    "# For reproducibility, we fix the random seed\n",
    "np.random.seed(42) "
   ]
  },
  {
   "cell_type": "markdown",
   "metadata": {},
   "source": [
    "### 1.1 Case of a $2\\times 2$ matrix \n"
   ]
  },
  {
   "cell_type": "code",
   "execution_count": 35,
   "metadata": {},
   "outputs": [],
   "source": [
    "# Generate a 2x2 random psd tensor\n",
    "D2 = MakeRandomTensor(2)"
   ]
  },
  {
   "cell_type": "markdown",
   "metadata": {},
   "source": [
    "The **Selling.Decomposition** routine, applies to a symmetric positive definite matrix $D$ of size $d \\times d$, with $d\\leq 3$. It returns coefficients $\\lambda_i \\geq 0$ and offsets $e_i \\in Z^d$.\n",
    "\n",
    "A discussion on the inner workings of this decomposition is presented in the next section."
   ]
  },
  {
   "cell_type": "code",
   "execution_count": 36,
   "metadata": {},
   "outputs": [],
   "source": [
    "coefs,offsets = Selling.Decomposition(D2)"
   ]
  },
  {
   "cell_type": "markdown",
   "metadata": {},
   "source": [
    "The matrix can be reconstructed by the formula\n",
    "$$\n",
    "    D = \\sum_{0 \\leq i < I} \\lambda_i e_i e_i^T. \n",
    "$$"
   ]
  },
  {
   "cell_type": "code",
   "execution_count": 37,
   "metadata": {},
   "outputs": [],
   "source": [
    "def Reconstruct(coefs,offsets):\n",
    "     return lp.mult(coefs,lp.outer_self(offsets)).sum(2)\n",
    "    \n",
    "def LInfNorm(a):\n",
    "    return np.max(np.abs(a))"
   ]
  },
  {
   "cell_type": "code",
   "execution_count": 38,
   "metadata": {},
   "outputs": [
    {
     "name": "stdout",
     "output_type": "stream",
     "text": [
      "Reconstruction error :  0.0\n"
     ]
    }
   ],
   "source": [
    "print(\"Reconstruction error : \", LInfNorm(D2-Reconstruct(coefs,offsets)) )"
   ]
  },
  {
   "cell_type": "markdown",
   "metadata": {},
   "source": [
    "There are $I = d(d+1)/2$ coefficients and offsets (a.k.a $I=3$ if $d=2$, and $I=6$ if $d=3$). Note that this is more than the similar-looking eigen-decomposition of a matrix, which uses only $d$ coefficients and unit vectors. However, our offsets have integer entries, hence are suitable for the construction of finite difference schemes."
   ]
  },
  {
   "cell_type": "code",
   "execution_count": 39,
   "metadata": {},
   "outputs": [
    {
     "name": "stdout",
     "output_type": "stream",
     "text": [
      "Selling decomposition of matrix : \n",
      " [[ 2.19269016 -0.73642646]\n",
      " [-0.73642646  2.51650505]]\n",
      "Coefficients :  [0.73642646 1.78007859 1.4562637 ]\n",
      "Offsets : \n",
      " [[ 1  0 -1]\n",
      " [-1  1  0]]\n"
     ]
    }
   ],
   "source": [
    "print(\"Selling decomposition of matrix : \\n\", D2)\n",
    "print(\"Coefficients : \", coefs)\n",
    "print(\"Offsets : \\n\", offsets)"
   ]
  },
  {
   "cell_type": "code",
   "execution_count": 11,
   "metadata": {},
   "outputs": [
    {
     "data": {
      "image/png": "[encoded data removed]",
      "text/plain": [
       "<Figure size 432x288 with 1 Axes>"
      ]
     },
     "metadata": {
      "needs_background": "light"
     },
     "output_type": "display_data"
    }
   ],
   "source": [
    "plt.axis('equal'); plt.title(\"Decomposition offsets for the matrix D2\")\n",
    "plt.quiver(*np.zeros(offsets.shape),*offsets,angles='xy',scale_units='xy',scale=1);\n",
    "plt.scatter(*offsets); plt.scatter(*(-offsets));"
   ]
  },
  {
   "cell_type": "markdown",
   "metadata": {},
   "source": [
    "### 1.2 Case of a $3 \\times 3$ matrix.\n",
    "\n",
    "As previously, we generate a 3x3 random psd tensor, decompose it and validate the absence of reconstruction error."
   ]
  },
  {
   "cell_type": "code",
   "execution_count": 12,
   "metadata": {},
   "outputs": [],
   "source": [
    "D3 = MakeRandomTensor(3)"
   ]
  },
  {
   "cell_type": "code",
   "execution_count": 13,
   "metadata": {},
   "outputs": [],
   "source": [
    "coefs,offsets = Selling.Decomposition(D3)"
   ]
  },
  {
   "cell_type": "code",
   "execution_count": 14,
   "metadata": {},
   "outputs": [
    {
     "name": "stdout",
     "output_type": "stream",
     "text": [
      "Reconstruction error :  1.1102230246251565e-16\n"
     ]
    }
   ],
   "source": [
    "print(\"Reconstruction error : \", LInfNorm(D3-Reconstruct(coefs,offsets)) )"
   ]
  },
  {
   "cell_type": "code",
   "execution_count": 15,
   "metadata": {},
   "outputs": [
    {
     "name": "stdout",
     "output_type": "stream",
     "text": [
      "Selling decomposition of matrix : \n",
      " [[ 0.85853982 -0.08963958 -0.06552819]\n",
      " [-0.08963958  0.49213052 -0.73715916]\n",
      " [-0.06552819 -0.73715916  2.84683026]]\n",
      "Coefficients :  [0.15516777 0.08963958 0.61373247 0.24502864 1.46444606 0.1574623 ]\n",
      "Offsets : \n",
      " [[-1  1 -1  0  0  0]\n",
      " [ 0 -1  0  1  0 -1]\n",
      " [ 1  1  0 -2  1  1]]\n"
     ]
    }
   ],
   "source": [
    "print(\"Selling decomposition of matrix : \\n\", D3)\n",
    "print(\"Coefficients : \", coefs)\n",
    "print(\"Offsets : \\n\", offsets)"
   ]
  },
  {
   "cell_type": "markdown",
   "metadata": {},
   "source": [
    "### 1.3 Case of (extremely) strong anisotropy\n",
    "\n",
    "Selling's tensor decomposition algorithm requires the matrix to be positive definite. It involves a loop, which number of iterations explodes as the matrix degenerates.\n",
    "\n",
    "A maximum number of iterations is set by default, to a reasonably large value, so that non-convergence is typically due to an error on the user's side - namely a non-positive matrix. "
   ]
  },
  {
   "cell_type": "code",
   "execution_count": 16,
   "metadata": {},
   "outputs": [],
   "source": [
    "# Construct some matrix with extremely large condition number\n",
    "eps = 1/200.\n",
    "D2_bad = np.array([[1,eps],[eps,2*eps**2]])"
   ]
  },
  {
   "cell_type": "code",
   "execution_count": 17,
   "metadata": {},
   "outputs": [
    {
     "name": "stdout",
     "output_type": "stream",
     "text": [
      "('Selling.Decomposition2 error: Selling algorithm unterminated',)\n"
     ]
    }
   ],
   "source": [
    "#Selling's decomposition does not terminate within the iteration limit\n",
    "try:\n",
    "    coefs,offsets = Selling.Decomposition(D2_bad)\n",
    "except ValueError as e:\n",
    "    print(e.args)"
   ]
  },
  {
   "cell_type": "markdown",
   "metadata": {},
   "source": [
    "The iteration limit of Selling's algorithm may be increased, so as to ensure correct termination."
   ]
  },
  {
   "cell_type": "code",
   "execution_count": 18,
   "metadata": {},
   "outputs": [],
   "source": [
    "Selling.iterMax2 *= 2"
   ]
  },
  {
   "cell_type": "code",
   "execution_count": 19,
   "metadata": {},
   "outputs": [],
   "source": [
    "coefs,offsets = Selling.Decomposition(D2_bad)"
   ]
  },
  {
   "cell_type": "markdown",
   "metadata": {},
   "source": [
    "However, the resulting offsets are unlikely to be of use for any PDE discretization, since they are way too large. \n",
    "\n",
    "Note also that basis reduction techniques more efficient than Selling's algorithm are available for tensors with extremely large condition numbers. (E.g. Lagrange's algorithm.)"
   ]
  },
  {
   "cell_type": "code",
   "execution_count": 20,
   "metadata": {},
   "outputs": [
    {
     "name": "stdout",
     "output_type": "stream",
     "text": [
      "offsets : \n",
      " [[-99 100  -1]\n",
      " [ -1   1   0]]\n"
     ]
    }
   ],
   "source": [
    "print(\"offsets : \\n\", offsets)"
   ]
  },
  {
   "cell_type": "markdown",
   "metadata": {},
   "source": [
    "### 1.4 Decomposition a field of symmetric tensors\n",
    "\n",
    "Our implementation of Selling's algorithm automatically threads over dimensions deeper than two."
   ]
  },
  {
   "cell_type": "code",
   "execution_count": 21,
   "metadata": {},
   "outputs": [],
   "source": [
    "# Generate a 10x10 field of random 2x2 spd tensors\n",
    "D2_field = MakeRandomTensor(2,(10,10))"
   ]
  },
  {
   "cell_type": "code",
   "execution_count": 22,
   "metadata": {},
   "outputs": [],
   "source": [
    "coefs, offsets = Selling.Decomposition(D2_field)"
   ]
  },
  {
   "cell_type": "code",
   "execution_count": 23,
   "metadata": {},
   "outputs": [
    {
     "name": "stdout",
     "output_type": "stream",
     "text": [
      "Max reconstruction error :  3.9523939676655573e-13\n"
     ]
    }
   ],
   "source": [
    "print(\"Max reconstruction error : \", LInfNorm(D2_field - Reconstruct(coefs,offsets)))"
   ]
  },
  {
   "cell_type": "markdown",
   "metadata": {},
   "source": [
    "## 2. Under the hood : obtuse superbases\n",
    "\n",
    "This section illustrates the main mathematical concept underlying Selling's decomposition, known as *obtuse superbases* of the lattice $Z^d$.\n",
    "\n",
    "A superbase of $Z^d$ is a special kind of coordinate system $(b_0,\\cdots,b_d)$, spanning the lattice of integer points and with some redundancy. More precisely, one requires\n",
    "$$\n",
    "\\begin{aligned}\n",
    "    b_0+\\cdots+b_d &= 0\\\\\n",
    "    \\det(b_1,\\cdots,b_d) &= \\pm 1\n",
    "\\end{aligned}\n",
    "$$\n",
    "Obtuseness is a geometrical property, related to the tensor being decomposed, and illustrated below.\n"
   ]
  },
  {
   "cell_type": "markdown",
   "metadata": {},
   "source": [
    "### 2.1 Two dimensions\n",
    "\n",
    "Given a positive definite tensor $D$, of dimension $d \\in \\{2,3\\}$, Selling's algorithm produces a superbase obeying a  geometrical condition described below."
   ]
  },
  {
   "cell_type": "code",
   "execution_count": 24,
   "metadata": {},
   "outputs": [],
   "source": [
    "sb = Selling.ObtuseSuperbase(D2)"
   ]
  },
  {
   "cell_type": "code",
   "execution_count": 25,
   "metadata": {},
   "outputs": [
    {
     "name": "stdout",
     "output_type": "stream",
     "text": [
      "[[-1 -1  2]\n",
      " [ 1  0 -1]]\n"
     ]
    }
   ],
   "source": [
    "print(sb)"
   ]
  },
  {
   "cell_type": "markdown",
   "metadata": {},
   "source": [
    "The generated superbase $(b_0,\\cdots,b_d)$ is designed to be $D$-obtuse. In other words to obey \n",
    "$$\n",
    "    <b_i,D b_j> \\leq 0\n",
    "$$\n",
    "for all distinct $i,j\\in \\{0,\\cdots,d\\}$."
   ]
  },
  {
   "cell_type": "code",
   "execution_count": 33,
   "metadata": {},
   "outputs": [
    {
     "name": "stdout",
     "output_type": "stream",
     "text": [
      "[-0.251545753744008, -0.4146796384446705, -0.9178743070679038]\n"
     ]
    }
   ],
   "source": [
    "print([lp.dot_VAV(sb[:,i],D2,sb[:,np.mod(i+1,3)]) for i in range(3)])"
   ]
  },
  {
   "cell_type": "markdown",
   "metadata": {},
   "source": [
    "The tensor decomposition reads \n",
    "$$\n",
    "    D = -\\sum_{0\\leq i<j \\leq d} <b_i,D b_j> v_{ij} v_{ij}^\\perp,\n",
    "$$\n",
    "where one defines $v_{ij} = b_k^\\perp$ where $\\{i,j,k\\} = \\{0,1,2\\}$. \n",
    "\n",
    "In particular, \n",
    "* the weight of the decomposition are the negated scalar products.\n",
    "* the offsets of the decomposition are the superbase elements rotated by $\\pi/2$."
   ]
  },
  {
   "cell_type": "code",
   "execution_count": 26,
   "metadata": {},
   "outputs": [],
   "source": [
    "coefs,offsets = Selling.Decomposition(D2,sb=sb)"
   ]
  },
  {
   "cell_type": "code",
   "execution_count": 27,
   "metadata": {},
   "outputs": [
    {
     "name": "stdout",
     "output_type": "stream",
     "text": [
      "Coefficients :  [0.41467964 0.91787431 0.25154575]\n",
      "Offsets : \n",
      " [[-1  0  1]\n",
      " [-1 -1  2]]\n"
     ]
    }
   ],
   "source": [
    "print(\"Coefficients : \", coefs)\n",
    "print(\"Offsets : \\n\", offsets)"
   ]
  },
  {
   "cell_type": "markdown",
   "metadata": {},
   "source": [
    "It is possible to produce a tensor decomposition from an arbitrary superbase, but the coefficients are positive only if the superbase is obtuse."
   ]
  },
  {
   "cell_type": "code",
   "execution_count": 28,
   "metadata": {},
   "outputs": [
    {
     "name": "stdout",
     "output_type": "stream",
     "text": [
      "Coefficients :  [-0.91777115  3.25650811  1.58399654]\n",
      "Offsets : \n",
      " [[ 1  0 -1]\n",
      " [-1  1  0]]\n"
     ]
    }
   ],
   "source": [
    "sb = Selling.CanonicalSuperbase(2)\n",
    "coefs,offsets = Selling.Decomposition(D2,sb=sb)\n",
    "print(\"Coefficients : \", coefs)\n",
    "print(\"Offsets : \\n\", offsets)"
   ]
  },
  {
   "cell_type": "markdown",
   "metadata": {},
   "source": [
    "### 2.2 Three dimensions\n",
    "\n",
    "We follow similar steps in dimension $d=3$."
   ]
  },
  {
   "cell_type": "code",
   "execution_count": 30,
   "metadata": {},
   "outputs": [],
   "source": [
    "sb = Selling.ObtuseSuperbase(D3)"
   ]
  },
  {
   "cell_type": "code",
   "execution_count": 31,
   "metadata": {},
   "outputs": [
    {
     "name": "stdout",
     "output_type": "stream",
     "text": [
      "[[ 1  0  0 -1]\n",
      " [ 0  1  1 -2]\n",
      " [ 0  1  0 -1]]\n"
     ]
    }
   ],
   "source": [
    "print(sb)"
   ]
  },
  {
   "cell_type": "markdown",
   "metadata": {},
   "source": [
    "The superbase, once updated by Selling's algorithm, is again $D$-obtuse as in two dimensions."
   ]
  },
  {
   "cell_type": "code",
   "execution_count": 40,
   "metadata": {},
   "outputs": [
    {
     "name": "stdout",
     "output_type": "stream",
     "text": [
      "[-0.15516776941907545, -0.08963958172347006, -0.2450286383841236, -0.6137324732734054, -1.4644460568297009, -0.1574622969114413]\n"
     ]
    }
   ],
   "source": [
    "print([lp.dot_VAV(sb[:,i],D3,sb[:,j]) for i in range(4) for j in range(i)])"
   ]
  },
  {
   "cell_type": "markdown",
   "metadata": {},
   "source": [
    "The tensor decomposition reads \n",
    "$$\n",
    "    D = -\\sum_{0\\leq i<j \\leq d} <b_i,D b_j> v_{ij} v_{ij}^\\perp,\n",
    "$$\n",
    "where one defines $v_{ij} = \\pm b_k \\wedge bl$ where $\\{i,j,k,l\\} = \\{0,1,2,3\\}$. \n",
    "\n",
    "In particular, \n",
    "* the weight of the decomposition are the negated scalar products.\n",
    "* the offsets of the decomposition are the cross-products of superbase elements (or their oppossites)"
   ]
  },
  {
   "cell_type": "code",
   "execution_count": 40,
   "metadata": {},
   "outputs": [],
   "source": [
    "coefs,offsets = Selling.Decomposition(D3)"
   ]
  },
  {
   "cell_type": "code",
   "execution_count": 41,
   "metadata": {},
   "outputs": [
    {
     "name": "stdout",
     "output_type": "stream",
     "text": [
      "Coefficients :  [0.15516777 0.08963958 0.61373247 0.24502864 1.46444606 0.1574623 ]\n",
      "Offsets : \n",
      " [[-1  1 -1  0  0  0]\n",
      " [ 0 -1  0  1  0 -1]\n",
      " [ 1  1  0 -2  1  1]]\n"
     ]
    }
   ],
   "source": [
    "print(\"Coefficients : \", coefs)\n",
    "print(\"Offsets : \\n\", offsets)"
   ]
  },
  {
   "cell_type": "code",
   "execution_count": 43,
   "metadata": {},
   "outputs": [
    {
     "name": "stdout",
     "output_type": "stream",
     "text": [
      "[[ 0  1 -1]\n",
      " [ 0  0 -1]\n",
      " [ 1  0  0]\n",
      " [ 0 -1  2]\n",
      " [-1  1 -1]\n",
      " [ 1  0 -1]]\n"
     ]
    }
   ],
   "source": [
    "#Comparing with the cross products of the superbase elements.\n",
    "print(np.array(\n",
    "    [lp.cross(sb[:,i],sb[:,j]) for i in range(4) for j in range(i)]\n",
    ").astype(int))"
   ]
  },
  {
   "cell_type": "markdown",
   "metadata": {},
   "source": [
    "## 3. Properties of the decomposition\n",
    "\n",
    "Selling's decomposition of tensors, presented in this notebook has a qualities that make it particularly suitable for PDE discretizations. More precisely, it is:\n",
    "* *Local*: The offsets appearing in the decomposition are typically small, and in any case bounded by the anisotropy ratio of the tensor, see below.\n",
    "* *Stable*: The decomposition is unique, up to trivial transformations (reordering the offsets, and replacing some with their opposites). It is also stable, more precisely it is locally Lipschitz w.r.t. the decomposed tensor.  \n",
    "* *Spanning* The offsets span $Z^d$ by linear relations with integer coordinates. In practice, this means that anisotropic PDE discretizations using this method should not produce chessboard artifacts. \n",
    "\n",
    "\n",
    "We illustrate these properties in dimension $d=2$, by considering a rotating family of tensors with fixed condition number. For any positive definite tensor $D$ we let \n",
    "$$\n",
    "    \\mu(D) := \\sqrt{\\|D\\| \\|D^{-1}\\|}\n",
    "$$ \n",
    "denote the anisotropy ratio, i.e. the sqrt of the condition number of $D$."
   ]
  },
  {
   "cell_type": "code",
   "execution_count": 44,
   "metadata": {},
   "outputs": [],
   "source": [
    "theta = np.linspace(0,np.pi/2,100)\n",
    "mu = 10\n",
    "D2_rotating = (\n",
    "    mu**2 * lp.outer_self(np.array([np.cos(theta),np.sin(theta)])) \n",
    "    + lp.outer_self(np.array([-np.sin(theta),np.cos(theta)])) \n",
    ")"
   ]
  },
  {
   "cell_type": "code",
   "execution_count": 45,
   "metadata": {},
   "outputs": [],
   "source": [
    "coefs,offsets = Selling.Decomposition(D2_rotating)"
   ]
  },
  {
   "cell_type": "markdown",
   "metadata": {},
   "source": [
    "### 3.1 Offsets smallness \n",
    "\n",
    "The offsets $(e_i)_{1 \\leq i \\leq I}$ involved in Selling's decomposition of a tensor $D$ obey\n",
    "$$\n",
    "    \\|e_i\\| \\leq C \\mu(D),\n",
    "$$\n",
    "where $C$ is an absolute constant. "
   ]
  },
  {
   "cell_type": "code",
   "execution_count": 46,
   "metadata": {},
   "outputs": [],
   "source": [
    "offsets_norms = np.sqrt(np.sum(offsets**2,axis=0))"
   ]
  },
  {
   "cell_type": "code",
   "execution_count": 47,
   "metadata": {},
   "outputs": [
    {
     "name": "stdout",
     "output_type": "stream",
     "text": [
      "Sqrt of condition number :  10\n",
      "Largest offset norm :  5.0990195135927845\n"
     ]
    }
   ],
   "source": [
    "print(\"Sqrt of condition number : \", mu)\n",
    "print(\"Largest offset norm : \", np.max(offsets_norms))"
   ]
  },
  {
   "cell_type": "code",
   "execution_count": 48,
   "metadata": {},
   "outputs": [
    {
     "data": {
      "image/png": "[encoded data removed]",
      "text/plain": [
       "<Figure size 432x288 with 1 Axes>"
      ]
     },
     "metadata": {
      "needs_background": "light"
     },
     "output_type": "display_data"
    }
   ],
   "source": [
    "plt.plot(theta,np.max(offsets_norms,axis=0));"
   ]
  },
  {
   "cell_type": "markdown",
   "metadata": {},
   "source": [
    "### 3.2 Stability\n",
    "\n",
    "We may rewrite Selling's decomposition in an indexation independent manner, as follows\n",
    "$$\n",
    "    D = \\sum_{e \\in Z^d} \\lambda^e(D) e e^T.\n",
    "$$\n",
    "One can the prove that the coefficient $\\lambda^e(D)$ of Selling's tensor decomposition, for a given offset $e \\in Z^d$, depends continuously on the parameter $D$, as illustrated below. "
   ]
  },
  {
   "cell_type": "code",
   "execution_count": 49,
   "metadata": {},
   "outputs": [],
   "source": [
    "decomp = Selling.GatherByOffset(theta,coefs,offsets)"
   ]
  },
  {
   "cell_type": "code",
   "execution_count": 50,
   "metadata": {},
   "outputs": [
    {
     "data": {
      "image/png": "[encoded data removed]",
      "text/plain": [
       "<Figure size 1440x720 with 1 Axes>"
      ]
     },
     "metadata": {
      "needs_background": "light"
     },
     "output_type": "display_data"
    }
   ],
   "source": [
    "plt.figure(figsize=(20,10))\n",
    "for offset,(angle,coef) in decomp.items():\n",
    "    plt.plot(angle,coef)\n",
    "plt.legend(decomp.keys());"
   ]
  },
  {
   "cell_type": "markdown",
   "metadata": {},
   "source": [
    "### 3.3 Spanning property (no chessboard artifacts)\n",
    "\n",
    "The lattice $Z^d$ is spanned, by integer combinations, by the offsets $(e_i)_{1 \\leq i \\leq I}$ appearing in the decomposition of an arbitrary p.s.d. tensor $D$. In other words, for all $x \\in Z^d$, there exists coefficisnts $k_1,\\cdots, k_I \\in Z$ such that \n",
    "$$\n",
    "    x = k_1 e_1 + \\cdots+ k_d e_d.\n",
    "$$\n",
    "In addition, one may select this decomposition so that the weight $\\lambda_i$ of $e_i$ is positive whenever $k_i \\neq 0$.\n",
    "\n",
    "This property guarantees that the graph underlying e.g. the discretization of an anisotropic laplacian is locally connected, hence that spurious modes such as chessboard artifacts will not appear. \n",
    "\n",
    "From a mathematical standpoint, the spanning property can be deduced from the construction of the decomposition in terms of obtuse superbases. Numerically, we can check it by finding a subset of the offsets whose determinant equals $\\pm 1$. "
   ]
  },
  {
   "cell_type": "code",
   "execution_count": 51,
   "metadata": {},
   "outputs": [
    {
     "name": "stdout",
     "output_type": "stream",
     "text": [
      "[ 1  1 -1  1 -1 -1 -1 -1 -1 -1 -1 -1 -1  1  1  1  1  1  1 -1 -1 -1 -1 -1\n",
      " -1 -1 -1 -1  1  1  1  1 -1 -1 -1 -1 -1 -1 -1 -1 -1 -1 -1 -1 -1 -1 -1 -1\n",
      "  1 -1 -1  1 -1 -1 -1 -1 -1 -1 -1 -1 -1 -1 -1 -1 -1 -1 -1 -1  1  1  1  1\n",
      " -1 -1 -1 -1 -1 -1 -1 -1 -1  1  1  1  1  1  1 -1 -1 -1 -1 -1 -1 -1 -1 -1\n",
      "  1 -1  1 -1]\n"
     ]
    }
   ],
   "source": [
    "print( lp.det(offsets[:,0:2]) )"
   ]
  },
  {
   "cell_type": "code",
   "execution_count": 52,
   "metadata": {},
   "outputs": [],
   "source": [
    "coefs,offsets = Selling.Decomposition(D3)"
   ]
  },
  {
   "cell_type": "code",
   "execution_count": 53,
   "metadata": {},
   "outputs": [
    {
     "name": "stdout",
     "output_type": "stream",
     "text": [
      "-1\n"
     ]
    }
   ],
   "source": [
    "print(lp.det(offsets[:,0:3]))"
   ]
  },
  {
   "cell_type": "code",
   "execution_count": null,
   "metadata": {},
   "outputs": [],
   "source": []
  }
 ],
 "metadata": {
  "kernelspec": {
   "display_name": "Python 3",
   "language": "python",
   "name": "python3"
  },
  "language_info": {
   "codemirror_mode": {
    "name": "ipython",
    "version": 3
   },
   "file_extension": ".py",
   "mimetype": "text/x-python",
   "name": "python",
   "nbconvert_exporter": "python",
   "pygments_lexer": "ipython3",
   "version": "3.7.3"
  }
 },
 "nbformat": 4,
 "nbformat_minor": 2
}
