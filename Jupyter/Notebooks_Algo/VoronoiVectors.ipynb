{
 "cells": [
  {
   "cell_type": "markdown",
   "metadata": {},
   "source": [
    "# Adaptive PDE discretizations on cartesian grids\n",
    "## Volume : Algorithmic tools\n",
    "## Part : Generalized acuteness\n",
    "## Chapter : Riemannian norms and the Voronoi vectors"
   ]
  },
  {
   "cell_type": "markdown",
   "metadata": {},
   "source": [
    "This notebook illustrates a construction of acute stencils applicable to two and three dimensional Riemannian metrics. It allows to compute Riemannian distance maps, by solving the corresponding eikonal equations, efficiently in a single pass over the discretization set, using the Fast-Marching method, a Dijkstra-like algorithm. The present notebook is only illustrative, as this algorithms are more efficiently implemented in C++, due to its serial nature.\n",
    "\n",
    "The stencil construction presented in this notebook is based on the following mathematical tools:\n",
    "* Voronoi vectors. Those vectors $e\\in Z^d \\setminus \\{0\\}$ whose Voronoi cell intersects the Voronoi cell of the origin. \n",
    "* The notion of acute angle associated with a scalar product.\n",
    "\n",
    "Here the scalar product and norm on $R^d$ are associated with a $d\\times d$ symmetric positive definite matrix $M$, and defined as follows:\n",
    "$$\n",
    "    <u,v>_M := <u,Mv> \\qquad \\|u\\|_M := \\sqrt{<u,M u>}\n",
    "$$\n",
    "\n",
    "**Comparison with the Stern-Brocot based stencils.**\n",
    "Another stencil construction is presented in the notebook [SternBrocot](SternBrocot.ipynb). This one distinguishes itself on the following points:\n",
    "* It only applies to *Riemannian* metric. In constrast, the other construction extends to *Finslerian* metrics.\n",
    "* It applies in dimension $3$. In constrast, the other construction is limited to dimension two.\n",
    "\n",
    "**Academic publication.** The contents of this notebooks are related with the following publication:\n",
    "* Mirebeau, J.-M. (2014). Anisotropic Fast-Marching on cartesian grids using Lattice Basis Reduction. SIAM Journal on Numerical Analysis, 52(4), 1573–1599."
   ]
  },
  {
   "cell_type": "markdown",
   "metadata": {},
   "source": [
    "[**Summary**](Summary.ipynb) of volume Algorithmic tools, this series of notebooks.\n",
    "\n",
    "[**Main summary**](../Summary.ipynb) of the Adaptive Grid Discretizations \n",
    "\tbook of notebooks, including the other volumes.\n",
    "\n",
    "# Table of contents\n",
    "  * [1. Stencil and acuteness](#1.-Stencil-and-acuteness)\n",
    "    * [1.1 Two dimensional stencils](#1.1-Two-dimensional-stencils)\n",
    "    * [1.2 Three dimensional stencils](#1.2-Three-dimensional-stencils)\n",
    "  * [2. Two dimensional construction](#2.-Two-dimensional-construction)\n",
    "  * [3. Three dimensional construction](#3.-Three-dimensional-construction)\n",
    "\n",
    "\n",
    "\n",
    "**Acknowledgement.** The experiments presented in these notebooks are part of ongoing research, \n",
    "some of it with PhD student Guillaume Bonnet, in co-direction with Frederic Bonnans.\n",
    "\n",
    "Copyright Jean-Marie Mirebeau, University Paris-Sud, CNRS, University Paris-Saclay"
   ]
  },
  {
   "cell_type": "markdown",
   "metadata": {},
   "source": [
    "## 0. Importing the required libraries"
   ]
  },
  {
   "cell_type": "code",
   "execution_count": 132,
   "metadata": {},
   "outputs": [],
   "source": [
    "import sys; sys.path.insert(0,\"..\") # Allow import of agd from parent directory (useless if conda package installed)\n",
    "#from Miscellaneous import TocTools; print(TocTools.displayTOC('VoronoiVectors','Algo'))"
   ]
  },
  {
   "cell_type": "code",
   "execution_count": 38,
   "metadata": {},
   "outputs": [],
   "source": [
    "from agd.Metrics import Riemann\n",
    "from agd import Selling\n",
    "from agd import LinearParallel as lp\n",
    "from agd import FiniteDifferences as fd"
   ]
  },
  {
   "cell_type": "code",
   "execution_count": 87,
   "metadata": {},
   "outputs": [],
   "source": [
    "import numpy as np\n",
    "from matplotlib import pyplot as plt\n",
    "import itertools"
   ]
  },
  {
   "cell_type": "markdown",
   "metadata": {},
   "source": [
    "## 1. Stencil and acuteness\n",
    "\n",
    "In the context of semi-Lagrangian discretizations of eikonal equations, a stencil at a discretization point $x$ is defined as a polygonal surface enclosing $x$, whose vertices are also discretization points.\n",
    "\n",
    "We specialize to cartesian grids discretizations, and assume w.l.o.g. that the discretization point considered is the origin. Up to rescaling, the polygonal surface vertices should therefore lie on $Z^d$.\n",
    "With these conventions the stencil is said *acute*, w.r.t. the scalar product associated to a matrix $M$, iff for any vertices $u,v$ of a common facet of the polygonal surface one has \n",
    "$$\n",
    "    <u,M v> \\, \\geq 0.\n",
    "$$"
   ]
  },
  {
   "cell_type": "code",
   "execution_count": 86,
   "metadata": {},
   "outputs": [],
   "source": [
    "direction2 = [np.cos(np.pi/6),np.sin(np.pi/6)] # Arbitrary non-zero vector\n",
    "direction3 = [1.5,4.2,10.7] # Arbitrary non-zero vector"
   ]
  },
  {
   "cell_type": "code",
   "execution_count": 70,
   "metadata": {},
   "outputs": [],
   "source": [
    "aX0 = np.linspace(-1,1); aX1=aX0\n",
    "X = np.array(np.meshgrid(aX0,aX1,indexing='ij')) # Coordinate system"
   ]
  },
  {
   "cell_type": "markdown",
   "metadata": {},
   "source": [
    "### 1.1 Two dimensional stencils\n",
    "\n",
    "We represent two dimensional stencils as a list of vectors. The $4$-element diamond stencil, and $8$-element square stencil are most classical."
   ]
  },
  {
   "cell_type": "code",
   "execution_count": 24,
   "metadata": {},
   "outputs": [],
   "source": [
    "e0,e1=np.eye(2)\n",
    "diamond2 = [e0,e1,-e0,-e1,e0]\n",
    "box2 = [e0,e0+e1,e1,e1-e0,-e0,-e0-e1,-e1,-e1+e0,e0]"
   ]
  },
  {
   "cell_type": "code",
   "execution_count": 23,
   "metadata": {},
   "outputs": [],
   "source": [
    "def PlotStencil2(stencil):\n",
    "    plt.plot(*np.array(stencil).T)\n",
    "    plt.scatter(*np.array(stencil).T)\n",
    "    plt.scatter(0,0,color='black')"
   ]
  },
  {
   "cell_type": "code",
   "execution_count": 28,
   "metadata": {},
   "outputs": [
    {
     "data": {
      "image/png": "[encoded data removed]",
      "text/plain": [
       "<Figure size 864x288 with 2 Axes>"
      ]
     },
     "metadata": {
      "needs_background": "light"
     },
     "output_type": "display_data"
    }
   ],
   "source": [
    "plt.figure(figsize=[12,4])\n",
    "plt.subplot(1,2,1)\n",
    "plt.title(\"Diamond stencil\"); plt.axis('equal')\n",
    "PlotStencil2(diamond2)\n",
    "plt.subplot(1,2,2)\n",
    "plt.title(\"Square stencil\"); plt.axis('equal')\n",
    "PlotStencil2(box2)"
   ]
  },
  {
   "cell_type": "markdown",
   "metadata": {},
   "source": [
    "We can compute th minimum scalar product between consecutive elements of a stencil."
   ]
  },
  {
   "cell_type": "code",
   "execution_count": 52,
   "metadata": {},
   "outputs": [],
   "source": [
    "def MinStencilScal2(stencil,m):\n",
    "    s = np.array(stencil[:-1]).T\n",
    "    m=np.expand_dims(m,axis=2)\n",
    "    return lp.dot_VAV(s,m,np.roll(s,axis=1,shift=1)).min()"
   ]
  },
  {
   "cell_type": "markdown",
   "metadata": {},
   "source": [
    "Both the diamond and the box stencil are *acute*, a.k.a. the minimal scalar product is non-negative."
   ]
  },
  {
   "cell_type": "code",
   "execution_count": 54,
   "metadata": {},
   "outputs": [
    {
     "data": {
      "text/plain": [
       "(0.0, 1.0)"
      ]
     },
     "execution_count": 54,
     "metadata": {},
     "output_type": "execute_result"
    }
   ],
   "source": [
    "MinStencilScal2(diamond2,np.eye(2)), MinStencilScal2(box2,np.eye(2))"
   ]
  },
  {
   "cell_type": "markdown",
   "metadata": {},
   "source": [
    "However, as soon as some non-diagonal anisotropy is introduced, the diamond stencil looses acuteness.\n",
    "The matrix corresponding to a needle-like Riemannian norm has two eigenspaces: the line spanned by the given direction, and the orthogonal space. The corresponding two eigenvalues are prescribed as parameters."
   ]
  },
  {
   "cell_type": "code",
   "execution_count": 71,
   "metadata": {},
   "outputs": [],
   "source": [
    "riemann2_2 = Riemann.needle(direction2,1,2)"
   ]
  },
  {
   "cell_type": "code",
   "execution_count": 72,
   "metadata": {},
   "outputs": [
    {
     "data": {
      "text/plain": [
       "(-1.299038105676658, 0.45096189432334155)"
      ]
     },
     "execution_count": 72,
     "metadata": {},
     "output_type": "execute_result"
    }
   ],
   "source": [
    "MinStencilScal2(diamond2,riemann2_2.m), MinStencilScal2(box2,riemann2_2.m)"
   ]
  },
  {
   "cell_type": "markdown",
   "metadata": {},
   "source": [
    "The box stencil looses acuteness when anisotropy becomes more pronounced."
   ]
  },
  {
   "cell_type": "code",
   "execution_count": 73,
   "metadata": {},
   "outputs": [],
   "source": [
    "riemann2_3 = Riemann.needle(direction2,1,3)"
   ]
  },
  {
   "cell_type": "code",
   "execution_count": 74,
   "metadata": {},
   "outputs": [
    {
     "data": {
      "text/plain": [
       "(-3.4641016151377544, -0.4641016151377553)"
      ]
     },
     "execution_count": 74,
     "metadata": {},
     "output_type": "execute_result"
    }
   ],
   "source": [
    "MinStencilScal2(diamond2,riemann2_3.m), MinStencilScal2(box2,riemann2_3.m)"
   ]
  },
  {
   "cell_type": "code",
   "execution_count": 76,
   "metadata": {},
   "outputs": [
    {
     "data": {
      "image/png": "[encoded data removed]",
      "text/plain": [
       "<Figure size 864x288 with 2 Axes>"
      ]
     },
     "metadata": {
      "needs_background": "light"
     },
     "output_type": "display_data"
    }
   ],
   "source": [
    "plt.figure(figsize=[12,4])\n",
    "plt.subplot(1,2,1)\n",
    "plt.title(\"Box stencil is acute\"); plt.axis('equal')\n",
    "plt.contourf(*X,riemann2_2.norm(X),levels=[0.,1.]); plt.scatter(0,0,color='black'); \n",
    "plt.subplot(1,2,2)\n",
    "plt.title(\"Box stencil is not acute\"); plt.axis('equal')\n",
    "plt.contourf(*X,riemann2_3.norm(X),levels=[0.,1.]); plt.scatter(0,0,color='black'); "
   ]
  },
  {
   "cell_type": "markdown",
   "metadata": {},
   "source": [
    "### 1.2 Three dimensional stencils\n",
    "\n",
    "We describe a three dimensional stencil as a set of triangles. The diamond and box stencils admit obvious generalizations, with 8 and 48 triangules respectively."
   ]
  },
  {
   "cell_type": "code",
   "execution_count": 101,
   "metadata": {},
   "outputs": [],
   "source": [
    "e0,e1,e2 = np.eye(3)\n",
    "diamond3 = [[e0*s0,e1*s1,e2*s2] for s0,s1,s2 in itertools.product([-1,1],repeat=3)]\n",
    "box3 = [ [u*su, u*su+v*sv, u*su+v*sv+w*sw] \n",
    "        for u,v,w in itertools.permutations([e0,e1,e2]) \n",
    "        for su,sv,sw in itertools.product([-1,1],repeat=3)]"
   ]
  },
  {
   "cell_type": "code",
   "execution_count": 102,
   "metadata": {},
   "outputs": [
    {
     "data": {
      "text/plain": [
       "(8, 48)"
      ]
     },
     "execution_count": 102,
     "metadata": {},
     "output_type": "execute_result"
    }
   ],
   "source": [
    "len(diamond3),len(box3)"
   ]
  },
  {
   "cell_type": "code",
   "execution_count": 104,
   "metadata": {},
   "outputs": [],
   "source": [
    "def MinStencilScal3(stencil,m):\n",
    "    def MinFacet(u,v,w):\n",
    "        return min(lp.dot_VAV(u,m,v),lp.dot_VAV(v,m,w),lp.dot_VAV(w,m,u))\n",
    "    return min(MinFacet(*s) for s in stencil)"
   ]
  },
  {
   "cell_type": "markdown",
   "metadata": {},
   "source": [
    "Again, the diamond and box stencils are acute for the isotropic metric."
   ]
  },
  {
   "cell_type": "code",
   "execution_count": 106,
   "metadata": {},
   "outputs": [
    {
     "data": {
      "text/plain": [
       "(0.0, 1.0)"
      ]
     },
     "execution_count": 106,
     "metadata": {},
     "output_type": "execute_result"
    }
   ],
   "source": [
    "MinStencilScal3(diamond3,np.eye(3)),MinStencilScal3(box3,np.eye(3))"
   ]
  },
  {
   "cell_type": "markdown",
   "metadata": {},
   "source": [
    "Acuteness of the diamond stencil is immediately lost for non-diagonal anisotropies."
   ]
  },
  {
   "cell_type": "code",
   "execution_count": 109,
   "metadata": {},
   "outputs": [],
   "source": [
    "riemann3_2 = Riemann.needle(direction3,1,2)"
   ]
  },
  {
   "cell_type": "code",
   "execution_count": 108,
   "metadata": {},
   "outputs": [
    {
     "data": {
      "text/plain": [
       "(-1.0032742967703527, 0.08245274594433738)"
      ]
     },
     "execution_count": 108,
     "metadata": {},
     "output_type": "execute_result"
    }
   ],
   "source": [
    "MinStencilScal3(diamond3,riemann3_2.m),MinStencilScal3(box3,riemann3_2.m)"
   ]
  },
  {
   "cell_type": "markdown",
   "metadata": {},
   "source": [
    "Acuteness for the box stencil only holds for very moderate anisotropies."
   ]
  },
  {
   "cell_type": "code",
   "execution_count": 113,
   "metadata": {},
   "outputs": [],
   "source": [
    "riemann3_3 = Riemann.needle(direction3,1,3)"
   ]
  },
  {
   "cell_type": "code",
   "execution_count": 114,
   "metadata": {},
   "outputs": [
    {
     "data": {
      "text/plain": [
       "(-2.6753981247209406, -1.446792677481767)"
      ]
     },
     "execution_count": 114,
     "metadata": {},
     "output_type": "execute_result"
    }
   ],
   "source": [
    "MinStencilScal3(diamond3,riemann3_3.m),MinStencilScal3(box3,riemann3_3.m)"
   ]
  },
  {
   "cell_type": "markdown",
   "metadata": {},
   "source": [
    "## 2. Two dimensional construction\n",
    "\n",
    "We propose a stencil construction based on the preliminary computation of an $M$-obtuse superbase, see notebook [Selling](Selling.ipynb).\n",
    "It can be shown that, for generic $M$, the stencil consists of the Voronoi vectors of $Z^2$ for the distance $\\|\\cdot\\|_M$, see the main introduction. \n",
    "\n",
    "The stencil is guaranteed to be acute, and to hold no more than $6$ distinct vertices, for any positive definite matrix $M$. This is independent of the condition number of $M$."
   ]
  },
  {
   "cell_type": "code",
   "execution_count": 80,
   "metadata": {},
   "outputs": [],
   "source": [
    "def MakeStencil2(m):\n",
    "    e0,e1,e2 = Selling.ObtuseSuperbase(m).T\n",
    "    return [e0,-e2,e1,-e0,e2,-e1,e0]"
   ]
  },
  {
   "cell_type": "code",
   "execution_count": 82,
   "metadata": {},
   "outputs": [],
   "source": [
    "riemann2_5 = Riemann.needle(direction2,1,5)"
   ]
  },
  {
   "cell_type": "code",
   "execution_count": 83,
   "metadata": {},
   "outputs": [
    {
     "data": {
      "image/png": "[encoded data removed]",
      "text/plain": [
       "<Figure size 432x288 with 1 Axes>"
      ]
     },
     "metadata": {
      "needs_background": "light"
     },
     "output_type": "display_data"
    }
   ],
   "source": [
    "plt.title(\"Unit ball for a norm of Riemannian type\"); plt.axis('equal')\n",
    "plt.contourf(*X,riemann2_5.norm(X),levels=[0.,1.]); plt.scatter(0,0,color='black'); "
   ]
  },
  {
   "cell_type": "code",
   "execution_count": 84,
   "metadata": {},
   "outputs": [
    {
     "data": {
      "image/png": "[encoded data removed]",
      "text/plain": [
       "<Figure size 432x288 with 1 Axes>"
      ]
     },
     "metadata": {
      "needs_background": "light"
     },
     "output_type": "display_data"
    }
   ],
   "source": [
    "plt.title(\"Stencil for a norm of Riemannian type\"); plt.axis('equal')\n",
    "PlotStencil2(MakeStencil2(riemann2_5.m)) "
   ]
  },
  {
   "cell_type": "code",
   "execution_count": 85,
   "metadata": {},
   "outputs": [
    {
     "data": {
      "text/plain": [
       "1.8230854637602008"
      ]
     },
     "execution_count": 85,
     "metadata": {},
     "output_type": "execute_result"
    }
   ],
   "source": [
    "MinStencilScal2(MakeStencil2(riemann2_5.m),riemann2_5.m)"
   ]
  },
  {
   "cell_type": "markdown",
   "metadata": {},
   "source": [
    "## 3. Three dimensional construction\n",
    "\n",
    "We propose a stencil construction based on the preliminary computation of an $M$-obtuse superbase, see notebook [Selling](Selling.ipynb).\n",
    "It can be shown that, for generic $M$, the stencil consists of the Voronoi vectors of $Z^3$ for the distance $\\|\\cdot\\|_M$, see the main introduction. \n",
    "\n",
    "The stencil is guaranteed to be acute, and to hold precisely than $14$ distinct vertices and $24$ facets, for any positive definite matrix $M$. This is independent of the condition number of $M$."
   ]
  },
  {
   "cell_type": "code",
   "execution_count": 122,
   "metadata": {},
   "outputs": [],
   "source": [
    "def MakeStencil3(m):\n",
    "    e0,e1,e2,e3 = Selling.ObtuseSuperbase(m).T\n",
    "    return [(u,u+v,u+v+w) for u,v,w in itertools.permutations([e0,e1,e2,e3],3)]"
   ]
  },
  {
   "cell_type": "code",
   "execution_count": 123,
   "metadata": {},
   "outputs": [],
   "source": [
    "riemann3_5 = Riemann.needle(direction3,1,5)"
   ]
  },
  {
   "cell_type": "code",
   "execution_count": 126,
   "metadata": {},
   "outputs": [
    {
     "data": {
      "text/plain": [
       "1.078434290817091"
      ]
     },
     "execution_count": 126,
     "metadata": {},
     "output_type": "execute_result"
    }
   ],
   "source": [
    "MinStencilScal3(MakeStencil3(riemann3_5.m),riemann3_5.m)"
   ]
  },
  {
   "cell_type": "code",
   "execution_count": 127,
   "metadata": {},
   "outputs": [
    {
     "data": {
      "text/plain": [
       "[(array([ 0., -1., -2.]), array([-1., -1., -3.]), array([ 0.,  0., -1.])),\n",
       " (array([ 0., -1., -2.]), array([-1., -1., -3.]), array([-1., -1., -2.])),\n",
       " (array([ 0., -1., -2.]), array([1., 0., 0.]), array([ 0.,  0., -1.])),\n",
       " (array([ 0., -1., -2.]), array([1., 0., 0.]), array([1., 0., 1.])),\n",
       " (array([ 0., -1., -2.]), array([ 0., -1., -1.]), array([-1., -1., -2.])),\n",
       " (array([ 0., -1., -2.]), array([ 0., -1., -1.]), array([1., 0., 1.])),\n",
       " (array([-1.,  0., -1.]), array([-1., -1., -3.]), array([ 0.,  0., -1.])),\n",
       " (array([-1.,  0., -1.]), array([-1., -1., -3.]), array([-1., -1., -2.])),\n",
       " (array([-1.,  0., -1.]), array([0., 1., 1.]), array([ 0.,  0., -1.])),\n",
       " (array([-1.,  0., -1.]), array([0., 1., 1.]), array([0., 1., 2.])),\n",
       " (array([-1.,  0., -1.]), array([-1.,  0.,  0.]), array([-1., -1., -2.])),\n",
       " (array([-1.,  0., -1.]), array([-1.,  0.,  0.]), array([0., 1., 2.])),\n",
       " (array([1., 1., 2.]), array([1., 0., 0.]), array([ 0.,  0., -1.])),\n",
       " (array([1., 1., 2.]), array([1., 0., 0.]), array([1., 0., 1.])),\n",
       " (array([1., 1., 2.]), array([0., 1., 1.]), array([ 0.,  0., -1.])),\n",
       " (array([1., 1., 2.]), array([0., 1., 1.]), array([0., 1., 2.])),\n",
       " (array([1., 1., 2.]), array([1., 1., 3.]), array([1., 0., 1.])),\n",
       " (array([1., 1., 2.]), array([1., 1., 3.]), array([0., 1., 2.])),\n",
       " (array([0., 0., 1.]), array([ 0., -1., -1.]), array([-1., -1., -2.])),\n",
       " (array([0., 0., 1.]), array([ 0., -1., -1.]), array([1., 0., 1.])),\n",
       " (array([0., 0., 1.]), array([-1.,  0.,  0.]), array([-1., -1., -2.])),\n",
       " (array([0., 0., 1.]), array([-1.,  0.,  0.]), array([0., 1., 2.])),\n",
       " (array([0., 0., 1.]), array([1., 1., 3.]), array([1., 0., 1.])),\n",
       " (array([0., 0., 1.]), array([1., 1., 3.]), array([0., 1., 2.]))]"
      ]
     },
     "execution_count": 127,
     "metadata": {},
     "output_type": "execute_result"
    }
   ],
   "source": [
    "MakeStencil3(riemann3_5.m)"
   ]
  }
 ],
 "metadata": {
  "kernelspec": {
   "display_name": "Python 3",
   "language": "python",
   "name": "python3"
  },
  "language_info": {
   "codemirror_mode": {
    "name": "ipython",
    "version": 3
   },
   "file_extension": ".py",
   "mimetype": "text/x-python",
   "name": "python",
   "nbconvert_exporter": "python",
   "pygments_lexer": "ipython3",
   "version": "3.7.3"
  }
 },
 "nbformat": 4,
 "nbformat_minor": 2
}
