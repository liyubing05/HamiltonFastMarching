{
 "cells": [
  {
   "cell_type": "markdown",
   "metadata": {},
   "source": [
    "# Adaptive PDE discretizations on cartesian grids \n",
    "## Volume : Algorithmic tools\n",
    "## Part : Automatic differentiation\n",
    "## Chapter : Known bugs and incompatibilities"
   ]
  },
  {
   "cell_type": "markdown",
   "metadata": {},
   "source": [
    "The techniques of automatic differentiation technique play an essential role in the notebooks presented in this repository. \n",
    "Our library is based on subclassing the `numpy.ndarray` class, and is written entirely in Python. This allows for a simple and powerfull implementation, which benefits from the high performance of the numpy module. It does however suffer from a few pitfalls, briefly described below, and illustrated in more detail in the body of the document.\n",
    "\n",
    "**! Caution with the functions np.sort, np.where, np.stack, np.broadcast_to !**\n",
    "* Problem : the arguments are silently cast to np.ndarray, loosing autodiff information.\n",
    "* Solution : use similarly named replacements from the AutomaticDifferentiation (ad) library, which also apply to np.ndarray.\n",
    "\n",
    "**! Caution with numpy scalars and array scalars !**\n",
    "* Problem. In an expression `a+b` where the l.h.s is a numpy scalar, and the r.h.s an array scalar of autodiff type, the r.h.s is silently cast loosing autodiff information.\n",
    "* Solution : use `b+a` instead, or `ad.toarray(a)+b`. "
   ]
  },
  {
   "cell_type": "markdown",
   "metadata": {},
   "source": [
    "[**Summary**](Summary.ipynb) of volume Algorithmic tools, this series of notebooks.\n",
    "\n",
    "[**Main summary**](../Summary.ipynb) of the Adaptive Grid Discretizations \n",
    "\tbook of notebooks, including the other volumes.\n",
    "\n",
    "# Table of contents\n",
    "  * [1. *Non-universal* functions from the numpy module](#1.-*Non-universal*-functions-from-the-numpy-module)\n",
    "    * [1.1 Numpy universal functions](#1.1-Numpy-universal-functions)\n",
    "    * [1.2 Failure examples](#1.2-Failure-examples)\n",
    "  * [2. The problem with numpy scalars on the left of array scalars](#2.-The-problem-with-numpy-scalars-on-the-left-of-array-scalars)\n",
    "    * [2.1 Basic case](#2.1-Basic-case)\n",
    "    * [2.2 Unexpected occurences](#2.2-Unexpected-occurences)\n",
    "    * [2.3 Solution with a trailing singleton dimension](#2.3-Solution-with-a-trailing-singleton-dimension)\n",
    "    * [2.4 Matrix multiplication and inversion](#2.4-Matrix-multiplication-and-inversion)\n",
    "  * [3. In place modifications and aliasing](#3.-In-place-modifications-and-aliasing)\n",
    "    * [3.1 Aliasing of the AD information](#3.1-Aliasing-of-the-AD-information)\n",
    "    * [3.1 Non writeable AD information](#3.1-Non-writeable-AD-information)\n",
    "\n",
    "\n",
    "\n",
    "**Acknowledgement.** The experiments presented in these notebooks are part of ongoing research, \n",
    "some of it with PhD student Guillaume Bonnet, in co-direction with Frederic Bonnans.\n",
    "\n",
    "Copyright Jean-Marie Mirebeau, University Paris-Sud, CNRS, University Paris-Saclay"
   ]
  },
  {
   "cell_type": "markdown",
   "metadata": {},
   "source": [
    "## 0. Importing the required libraries"
   ]
  },
  {
   "cell_type": "code",
   "execution_count": 1,
   "metadata": {},
   "outputs": [],
   "source": [
    "import sys; sys.path.insert(0,\"..\") # Allow importing agd from parent directory\n",
    "#from Miscellaneous import TocTools; TocTools.displayTOC('ADBugs','Algo')"
   ]
  },
  {
   "cell_type": "code",
   "execution_count": 2,
   "metadata": {},
   "outputs": [],
   "source": [
    "import numpy as np\n",
    "import scipy.sparse.linalg"
   ]
  },
  {
   "cell_type": "code",
   "execution_count": 3,
   "metadata": {},
   "outputs": [],
   "source": [
    "import agd.AutomaticDifferentiation as ad"
   ]
  },
  {
   "cell_type": "code",
   "execution_count": 4,
   "metadata": {},
   "outputs": [],
   "source": [
    "def reload_packages():\n",
    "    import importlib\n",
    "    ad = importlib.reload(sys.modules['agd.AutomaticDifferentiation'])\n",
    "    ad.reload_submodules()"
   ]
  },
  {
   "cell_type": "markdown",
   "metadata": {},
   "source": [
    "## 1. *Non-universal* functions from the numpy module\n",
    "\n",
    "Automatic differentiation is based on replacing, as transparently as possible, the base variable type - in our case `np.ndarray` - with a type that incorporate additional information. \n",
    "We have chosen new type to be a *subclass* of the `np.ndarray` class, so as to preserve as much functionality of the numpy library. Of course, many functions still need to be rewritten in order to take into account the additional information contained in the subclass.\n"
   ]
  },
  {
   "cell_type": "markdown",
   "metadata": {},
   "source": [
    "### 1.1 Numpy universal functions\n",
    "\n",
    "The numpy library has introduced a mechanism, known as universal functions, which to put it simply replaces the function call `np.sqrt(a)` with `a.sqrt()`, and likewise for many other methods. See the manual [link](https://docs.scipy.org/doc/numpy/reference/ufuncs.html) (not all are implemented here).\n",
    "\n",
    "If the subclass implements an adequate `sqrt` method, taking into account the AD information in our case, then it will be transparently called.\n",
    "\n",
    "**Special math functions**"
   ]
  },
  {
   "cell_type": "code",
   "execution_count": 5,
   "metadata": {},
   "outputs": [],
   "source": [
    "x=ad.Dense.identity(constant=np.array(1.))"
   ]
  },
  {
   "cell_type": "code",
   "execution_count": 6,
   "metadata": {},
   "outputs": [
    {
     "name": "stdout",
     "output_type": "stream",
     "text": [
      "denseAD(1.0,[0.5]) equals denseAD(1.0,[0.5])\n",
      "denseAD(0.8414709848078965,[0.54030231]) equals denseAD(0.8414709848078965,[0.54030231])\n",
      "denseAD(2.718281828459045,[2.71828183]) equals denseAD(2.718281828459045,[2.71828183])\n"
     ]
    }
   ],
   "source": [
    "print(np.sqrt(x),\"equals\", x.sqrt())\n",
    "print(np.sin(x),\"equals\", x.sin())\n",
    "print(np.exp(x),\"equals\", x.exp())"
   ]
  },
  {
   "cell_type": "markdown",
   "metadata": {},
   "source": [
    "**Reductions.** The universal function concept is not limited to special mathematical functions. It also extends to reductions via the minimum, maximum, or sum for instance."
   ]
  },
  {
   "cell_type": "code",
   "execution_count": 7,
   "metadata": {},
   "outputs": [],
   "source": [
    "reload_packages()"
   ]
  },
  {
   "cell_type": "code",
   "execution_count": 8,
   "metadata": {},
   "outputs": [],
   "source": [
    "x=ad.Dense.identity(constant=np.array([1.,2.,3.,4.]))**2"
   ]
  },
  {
   "cell_type": "code",
   "execution_count": 9,
   "metadata": {},
   "outputs": [
    {
     "name": "stdout",
     "output_type": "stream",
     "text": [
      "denseAD(30.0,[2. 4. 6. 8.]) equals denseAD(30.0,[2. 4. 6. 8.])\n",
      "denseAD(1.0,[2. 0. 0. 0.]) equals denseAD(1.0,[2. 0. 0. 0.])\n",
      "denseAD(16.0,[0. 0. 0. 8.]) equals denseAD(16.0,[0. 0. 0. 8.])\n"
     ]
    }
   ],
   "source": [
    "print(np.sum(x),\"equals\",x.sum())\n",
    "print(np.min(x),\"equals\",x.min())\n",
    "print(np.max(x),\"equals\",x.max())"
   ]
  },
  {
   "cell_type": "markdown",
   "metadata": {},
   "source": [
    "**Arithmetic operations.** Arithmetic operations on a subclass of `np.ndarray` can be handled in two ways: either as a 'magic' *Python* operator, or as a function of the *numpy module*."
   ]
  },
  {
   "cell_type": "code",
   "execution_count": 10,
   "metadata": {},
   "outputs": [],
   "source": [
    "x=ad.Dense.identity(constant=np.array([1.,2.]))**2"
   ]
  },
  {
   "cell_type": "code",
   "execution_count": 11,
   "metadata": {},
   "outputs": [
    {
     "name": "stdout",
     "output_type": "stream",
     "text": [
      "Call to x.__add__ (python magic function) : denseAD([2. 5.],\n",
      "[[2. 0.]\n",
      " [0. 4.]])\n",
      "Call to x.add (numpy universal function) : denseAD([2. 5.],\n",
      "[[2. 0.]\n",
      " [0. 4.]])\n"
     ]
    }
   ],
   "source": [
    "print(\"Call to x.__add__ (python magic function) :\",x+1)\n",
    "x+=1.; print(\"Call to x.add (numpy universal function) :\",x)"
   ]
  },
  {
   "cell_type": "markdown",
   "metadata": {},
   "source": [
    "### 1.2 Failure examples\n",
    "\n",
    "Subclassing from `np.ndarray` unfortunately has a few pitfalls, as some functions often \n",
    "* *Malfunction*. For instance `np.sort` does nothing on ad types.\n",
    "* *Delete* the additional information, silently, by casting the arguments to the base `np.ndarray` class. This is arguably the worst that can happen.\n",
    "\n",
    "There is no way (known to the author) to circumvent this defective behavior.\n",
    "It happens because not all numpy function adhere to the universal function concept.\n",
    "In other languages, such as C++, this issue could be avoided using function overloading."
   ]
  },
  {
   "cell_type": "markdown",
   "metadata": {},
   "source": [
    "**! Malfunction : `np.sort` function does nothing !** Use the `ad.sort` function instead."
   ]
  },
  {
   "cell_type": "code",
   "execution_count": 12,
   "metadata": {},
   "outputs": [],
   "source": [
    "x=ad.Dense.identity(constant=np.array([4.,1.,3.,2.]))**2"
   ]
  },
  {
   "cell_type": "code",
   "execution_count": 13,
   "metadata": {},
   "outputs": [
    {
     "name": "stdout",
     "output_type": "stream",
     "text": [
      "ad.sort : denseAD([ 1.  4.  9. 16.],\n",
      "[[0. 2. 0. 0.]\n",
      " [0. 0. 0. 4.]\n",
      " [0. 0. 6. 0.]\n",
      " [8. 0. 0. 0.]])\n",
      "np.sort (Malfunction : does nothing) : denseAD([16.  1.  9.  4.],\n",
      "[[8. 0. 0. 0.]\n",
      " [0. 2. 0. 0.]\n",
      " [0. 0. 6. 0.]\n",
      " [0. 0. 0. 4.]])\n"
     ]
    }
   ],
   "source": [
    "print(\"ad.sort :\", ad.sort(x))\n",
    "print(\"np.sort (Malfunction : does nothing) :\", np.sort(x))"
   ]
  },
  {
   "cell_type": "markdown",
   "metadata": {},
   "source": [
    "**! Deletion of AD information : np.where, np.stack, np.broadcast_to silently cast to base class !**\n",
    "Some functions numpy functions will cast their arguments to the base class `np.ndarray`.\n",
    "Their variant from the `ad` library needs to be called."
   ]
  },
  {
   "cell_type": "code",
   "execution_count": 14,
   "metadata": {},
   "outputs": [
    {
     "name": "stdout",
     "output_type": "stream",
     "text": [
      "ad.where : denseAD([16.  0.  9.  4.],\n",
      "[[8. 0. 0. 0.]\n",
      " [0. 0. 0. 0.]\n",
      " [0. 0. 6. 0.]\n",
      " [0. 0. 0. 4.]])\n",
      "np.where (Deletion : silent cast to base) : [16.  0.  9.  4.]\n"
     ]
    }
   ],
   "source": [
    "print(\"ad.where :\",ad.where(x<2.,0.,x))\n",
    "print(\"np.where (Deletion : silent cast to base) :\", np.where(x<2.,0.,x))"
   ]
  },
  {
   "cell_type": "code",
   "execution_count": 15,
   "metadata": {},
   "outputs": [
    {
     "name": "stdout",
     "output_type": "stream",
     "text": [
      "ad.broadcast_to : denseAD([[16.  1.  9.  4.]\n",
      " [16.  1.  9.  4.]],\n",
      "[[[8. 0. 0. 0.]\n",
      "  [0. 2. 0. 0.]\n",
      "  [0. 0. 6. 0.]\n",
      "  [0. 0. 0. 4.]]\n",
      "\n",
      " [[8. 0. 0. 0.]\n",
      "  [0. 2. 0. 0.]\n",
      "  [0. 0. 6. 0.]\n",
      "  [0. 0. 0. 4.]]])\n",
      "np.broadcast_to (Deletion : silent cast to base) : [[16.  1.  9.  4.]\n",
      " [16.  1.  9.  4.]]\n"
     ]
    }
   ],
   "source": [
    "print(\"ad.broadcast_to :\",ad.broadcast_to(x,(2,4)))\n",
    "print(\"np.broadcast_to (Deletion : silent cast to base) :\",np.broadcast_to(x,(2,4)))"
   ]
  },
  {
   "cell_type": "code",
   "execution_count": 16,
   "metadata": {},
   "outputs": [
    {
     "name": "stdout",
     "output_type": "stream",
     "text": [
      "ad.stack: denseAD([[16.  1.  9.  4.]\n",
      " [32.  2. 18.  8.]],\n",
      "[[[ 8.  0.  0.  0.]\n",
      "  [ 0.  2.  0.  0.]\n",
      "  [ 0.  0.  6.  0.]\n",
      "  [ 0.  0.  0.  4.]]\n",
      "\n",
      " [[16.  0.  0.  0.]\n",
      "  [ 0.  4.  0.  0.]\n",
      "  [ 0.  0. 12.  0.]\n",
      "  [ 0.  0.  0.  8.]]])\n",
      "np.stack (Deletion : silent cast to base) : [[16.  1.  9.  4.]\n",
      " [32.  2. 18.  8.]]\n"
     ]
    }
   ],
   "source": [
    "print(\"ad.stack:\",ad.stack((x,2*x)))\n",
    "print(\"np.stack (Deletion : silent cast to base) :\",np.stack((x,2*x)))"
   ]
  },
  {
   "cell_type": "markdown",
   "metadata": {},
   "source": [
    "## 2. The problem with numpy scalars on the left of array scalars\n",
    "\n",
    "**! Caution with numpy scalars and autodiff array scalars !**\n",
    "\n",
    "The type `numpy.float64` often causes trouble due to bad operator priority. Specifically, when it is multiplied (when multiplied with an array of shape `()` and containing automatic differentiation information). We circumvent this issue using the function ad.to_array which casts any value of to a numpy array, in this case to an array containing a single element and of shape $()$ (the empty tuple).\n",
    "\n",
    "**Context** In order to discuss this issue, which occurs in very specific circumstances, we need to introduce a few concepts.\n",
    "* A numpy scalar is a variable of type `numpy.float64`, or possibly some other integer of floating point type defined in the numpy module. Standard python scalars, such as `float` and `int`, are not affected by the issue below.\n",
    "* An array scalar is an array whose shape is the empty tuple `()`. Such arrays contain a single element, and for most purposes behave like a scalar variable.\n",
    "* Operator resolution is the process by which Python selects the appropriate function to compute `a+b` where `a` and `b` are two variables. In practice: \n",
    " * Python first calls `a.__add__(b)`. \n",
    " * The result is returned, except if it is the special value `NotImplemented`.\n",
    " * In that case Python calls `b.__radd__(a)` (note the 'r' which stands for 'right' side operator).\n",
    "\n",
    "**The problem.**\n",
    "If `a` is of type `numpy.float64`, and `b` is a subclass of `np.ndarray`, then `a.__add__(b)` usually returns `NotImplemented`, and is superseded by the adequate `b.__radd__(a)`. The exception to the rule is when is an array scale. In that case, `b` is cast to the based class `np.ndarray` loosing all AD information, and its (single) value is added to `a`.\n",
    "\n",
    "**Solution.**\n",
    "The idea is to avoid is previous situation, either exchanging the lhs and rhs, or by an appropriate casting.\n",
    "\n",
    "\n"
   ]
  },
  {
   "cell_type": "markdown",
   "metadata": {},
   "source": [
    "### 2.1 Basic case\n",
    "\n",
    "let us illustrate the problem in its most basic form, with simple scalars."
   ]
  },
  {
   "cell_type": "code",
   "execution_count": 17,
   "metadata": {},
   "outputs": [
    {
     "name": "stdout",
     "output_type": "stream",
     "text": [
      "a = 1.0 , b = denseAD(1.0,[1.])\n",
      "Error (cast to numpy scalar). a+b = 2.0\n"
     ]
    }
   ],
   "source": [
    "a = np.float64(1.)\n",
    "b = ad.Dense.identity(constant=np.array(1.)) \n",
    "print(\"a =\",a,\", b =\",b)\n",
    "print(\"Error (cast to numpy scalar). a+b =\",a+b)"
   ]
  },
  {
   "cell_type": "code",
   "execution_count": 18,
   "metadata": {},
   "outputs": [
    {
     "name": "stdout",
     "output_type": "stream",
     "text": [
      "b is an array scalar : b.shape = ()\n"
     ]
    }
   ],
   "source": [
    "print(\"b is an array scalar : b.shape =\",b.shape)"
   ]
  },
  {
   "cell_type": "markdown",
   "metadata": {},
   "source": [
    "Several solutions can be used."
   ]
  },
  {
   "cell_type": "code",
   "execution_count": 19,
   "metadata": {},
   "outputs": [
    {
     "name": "stdout",
     "output_type": "stream",
     "text": [
      "denseAD(2.0,[1.])\n",
      "denseAD(2.0,[1.])\n",
      "denseAD(2.0,[1.])\n"
     ]
    }
   ],
   "source": [
    "print(b+a) # Simplest\n",
    "print(ad.toarray(a)+b)\n",
    "print(ad.toarray(a)+ad.toarray(b)) #Safest"
   ]
  },
  {
   "cell_type": "markdown",
   "metadata": {},
   "source": [
    "The same issue arises with the other arithmetic operators"
   ]
  },
  {
   "cell_type": "code",
   "execution_count": 20,
   "metadata": {},
   "outputs": [
    {
     "name": "stdout",
     "output_type": "stream",
     "text": [
      "Error (cast to numpy scalar). a-b = 0.0\n",
      "Error (cast to numpy scalar). a*b = 1.0\n",
      "Error (cast to numpy scalar). a/b = 1.0\n"
     ]
    }
   ],
   "source": [
    "print(\"Error (cast to numpy scalar). a-b =\",a-b)\n",
    "print(\"Error (cast to numpy scalar). a*b =\",a*b)\n",
    "print(\"Error (cast to numpy scalar). a/b =\",a/b)"
   ]
  },
  {
   "cell_type": "markdown",
   "metadata": {},
   "source": [
    "The same solutions apply. Which one is the simplest can be discussed for non-symmetric operators."
   ]
  },
  {
   "cell_type": "code",
   "execution_count": 21,
   "metadata": {},
   "outputs": [
    {
     "name": "stdout",
     "output_type": "stream",
     "text": [
      "denseAD(-0.0,[-1.])\n",
      "denseAD(-0.0,[-1.])\n",
      "denseAD(-0.0,[-1.])\n",
      "\n",
      "denseAD(1.0,[1.])\n",
      "denseAD(1.0,[1.])\n",
      "denseAD(1.0,[1.])\n",
      "\n",
      "denseAD(1.0,[-1.])\n",
      "denseAD(1.0,[-1.])\n",
      "denseAD(1.0,[-1.])\n"
     ]
    }
   ],
   "source": [
    "print(-(b-a)) \n",
    "print(ad.toarray(a)-b) # Simplest\n",
    "print(ad.toarray(a)-ad.toarray(b)) #Safest\n",
    "print()\n",
    "\n",
    "print(b*a) # Simplest\n",
    "print(ad.toarray(a)*b)\n",
    "print(ad.toarray(a)*ad.toarray(b)) #Safest\n",
    "print()\n",
    "\n",
    "print(1./(b/a))\n",
    "print(ad.toarray(a)/b)  # Simplest\n",
    "print(ad.toarray(a)/ad.toarray(b)) #Safest"
   ]
  },
  {
   "cell_type": "markdown",
   "metadata": {},
   "source": [
    "All these problems disappear if 'b' is anything else than an array scalar. In other words if `b.shape!=()`."
   ]
  },
  {
   "cell_type": "code",
   "execution_count": 22,
   "metadata": {},
   "outputs": [
    {
     "name": "stdout",
     "output_type": "stream",
     "text": [
      "b is not an array scalar : b.shape = (1,)\n"
     ]
    }
   ],
   "source": [
    "a = np.float64(1.)\n",
    "b = ad.Dense.identity(constant=np.array([1.])) \n",
    "print(\"b is not an array scalar : b.shape =\", b.shape)"
   ]
  },
  {
   "cell_type": "code",
   "execution_count": 23,
   "metadata": {},
   "outputs": [
    {
     "name": "stdout",
     "output_type": "stream",
     "text": [
      "a+b = denseAD([2.],[[1.]])\n",
      "a-b = denseAD([-0.],[[-1.]])\n",
      "a*b = denseAD([1.],[[1.]])\n",
      "a/b = denseAD([1.],[[-1.]])\n"
     ]
    }
   ],
   "source": [
    "print(\"a+b =\",a+b)\n",
    "print(\"a-b =\",a-b)\n",
    "print(\"a*b =\",a*b)\n",
    "print(\"a/b =\",a/b)"
   ]
  },
  {
   "cell_type": "markdown",
   "metadata": {},
   "source": [
    "### 2.2 Unexpected occurences\n",
    "\n",
    "The problem depicted above may infortunately occur in a slightly hidden form, where may not thinking about numpy scalars and array scalars."
   ]
  },
  {
   "cell_type": "code",
   "execution_count": 24,
   "metadata": {},
   "outputs": [],
   "source": [
    "a = np.array([1.,2.,3.])\n",
    "b = ad.Dense.identity(constant=np.array([4.,5.,6.]))"
   ]
  },
  {
   "cell_type": "code",
   "execution_count": 25,
   "metadata": {},
   "outputs": [
    {
     "name": "stdout",
     "output_type": "stream",
     "text": [
      "a[0] is a numpy scalar. <class 'numpy.float64'>\n",
      "a.sum() is a numpy scalar. <class 'numpy.float64'>\n",
      "\n",
      "b[0] is an array scalar. ()\n",
      "b.sum() is an array scalar. ()\n"
     ]
    }
   ],
   "source": [
    "print(\"a[0] is a numpy scalar.\", type(a[0]))\n",
    "print(\"a.sum() is a numpy scalar.\", type(a.sum()))\n",
    "print()\n",
    "\n",
    "print(\"b[0] is an array scalar.\", b[0].shape)\n",
    "print(\"b.sum() is an array scalar.\",b.sum().shape)"
   ]
  },
  {
   "cell_type": "code",
   "execution_count": 26,
   "metadata": {},
   "outputs": [
    {
     "name": "stdout",
     "output_type": "stream",
     "text": [
      "Error (cast to numpy scalar). 5.0\n",
      "Error (cast to numpy scalar). 21.0\n"
     ]
    }
   ],
   "source": [
    "print(\"Error (cast to numpy scalar).\",a[0]+b[0])\n",
    "print(\"Error (cast to numpy scalar).\",a.sum()+b.sum())"
   ]
  },
  {
   "cell_type": "markdown",
   "metadata": {},
   "source": [
    "In the following example, an incorrect value is assigned."
   ]
  },
  {
   "cell_type": "code",
   "execution_count": 27,
   "metadata": {},
   "outputs": [
    {
     "name": "stdout",
     "output_type": "stream",
     "text": [
      "Incorrect (AD information lost). denseAD(5.0,[0. 0. 0.])\n"
     ]
    }
   ],
   "source": [
    "B=b.copy(); B[0]=a[0]+B[0]; print(\"Incorrect (AD information lost).\", B[0])"
   ]
  },
  {
   "cell_type": "markdown",
   "metadata": {},
   "source": [
    "The previous solutions apply."
   ]
  },
  {
   "cell_type": "code",
   "execution_count": 28,
   "metadata": {},
   "outputs": [
    {
     "name": "stdout",
     "output_type": "stream",
     "text": [
      "denseAD(5.0,[1. 0. 0.])\n",
      "denseAD(5.0,[1. 0. 0.])\n",
      "denseAD(5.0,[1. 0. 0.])\n",
      "\n",
      "denseAD(21.0,[1. 1. 1.])\n",
      "\n",
      "denseAD(5.0,[1. 0. 0.])\n"
     ]
    }
   ],
   "source": [
    "print(b[0]+a[0]) # Simplest\n",
    "print(ad.toarray(a[0])+b[0])\n",
    "print(ad.toarray(a[0])+ad.toarray(b[0])) # Safest\n",
    "print() \n",
    "\n",
    "print(ad.toarray(a.sum())+b.sum())\n",
    "print()\n",
    "\n",
    "B=b.copy(); B[0]=ad.toarray(a[0])+B[0]; print(B[0])"
   ]
  },
  {
   "cell_type": "markdown",
   "metadata": {},
   "source": [
    "However, alternative approaches can be considered too. For instance in the assignement case."
   ]
  },
  {
   "cell_type": "code",
   "execution_count": 29,
   "metadata": {},
   "outputs": [
    {
     "name": "stdout",
     "output_type": "stream",
     "text": [
      "denseAD(5.0,[1. 0. 0.])\n",
      "denseAD(5.0,[1. 0. 0.])\n"
     ]
    }
   ],
   "source": [
    "B=b.copy(); B[0]+=a[0]; print(B[0]) # Using in place assigment\n",
    "B=b.copy(); B[[0]]=a[[0]]+B[[0]]; print(B[0]) # Using non-scalar arrays"
   ]
  },
  {
   "cell_type": "markdown",
   "metadata": {},
   "source": [
    "A radical solution is to convert `a` to a variable `A` of AD type. "
   ]
  },
  {
   "cell_type": "code",
   "execution_count": 30,
   "metadata": {},
   "outputs": [
    {
     "name": "stdout",
     "output_type": "stream",
     "text": [
      "A[0] is an array scalar (not a numpy scalar). <class 'NumericalSchemes.AutomaticDifferentiation.Dense.denseAD'> ()\n"
     ]
    }
   ],
   "source": [
    "A = ad.toarray(a,type(b)) # A is the conversion of a to the same type as b\n",
    "print(\"A[0] is an array scalar (not a numpy scalar).\", type(A[0]), A[0].shape)"
   ]
  },
  {
   "cell_type": "markdown",
   "metadata": {},
   "source": [
    "The cost is minor, the AD information of $A$ only consists of an empty array."
   ]
  },
  {
   "cell_type": "code",
   "execution_count": 31,
   "metadata": {},
   "outputs": [
    {
     "name": "stdout",
     "output_type": "stream",
     "text": [
      "0\n",
      "0\n"
     ]
    }
   ],
   "source": [
    "print(A.size_ad)\n",
    "print(A.coef.size)"
   ]
  },
  {
   "cell_type": "code",
   "execution_count": 32,
   "metadata": {},
   "outputs": [
    {
     "name": "stdout",
     "output_type": "stream",
     "text": [
      "denseAD(5.0,[1. 0. 0.])\n",
      "denseAD(21.0,[1. 1. 1.])\n",
      "denseAD(5.0,[1. 0. 0.])\n"
     ]
    }
   ],
   "source": [
    "print(A[0]+b[0])\n",
    "print(A.sum()+b.sum())\n",
    "B=b.copy(); B[0]=A[0]+B[0]; print(B[0])"
   ]
  },
  {
   "cell_type": "markdown",
   "metadata": {},
   "source": [
    "Finally, let us recall that the above problems disappear in the case of non-scalar arrays."
   ]
  },
  {
   "cell_type": "code",
   "execution_count": 33,
   "metadata": {},
   "outputs": [
    {
     "data": {
      "text/plain": [
       "denseAD(array([5., 7.]),\n",
       "array([[1., 0., 0.],\n",
       "       [0., 1., 0.]]))"
      ]
     },
     "execution_count": 33,
     "metadata": {},
     "output_type": "execute_result"
    }
   ],
   "source": [
    "a[0:2]+b[0:2]"
   ]
  },
  {
   "cell_type": "markdown",
   "metadata": {},
   "source": [
    "### 2.3 Solution with a trailing singleton dimension\n",
    "\n",
    "Yet another solution is to fully eliminate array scalars of AD type, by introducing a (e.g. trailing) singleton dimension. This solution requires a bit of code refactoring, but should be transparent in most places."
   ]
  },
  {
   "cell_type": "code",
   "execution_count": 34,
   "metadata": {},
   "outputs": [],
   "source": [
    "a = np.float64(1)\n",
    "b = ad.Dense.identity(constant=np.array([4.,5.,6.]))\n",
    "b = np.expand_dims(b,axis=-1) # Add a trailing singleton dimension"
   ]
  },
  {
   "cell_type": "code",
   "execution_count": 35,
   "metadata": {},
   "outputs": [
    {
     "data": {
      "text/plain": [
       "denseAD(array([5.]),array([[1., 0., 0.]]))"
      ]
     },
     "execution_count": 35,
     "metadata": {},
     "output_type": "execute_result"
    }
   ],
   "source": [
    "a+b[0] # Problem solved"
   ]
  },
  {
   "cell_type": "markdown",
   "metadata": {},
   "source": [
    "### 2.4 Matrix multiplication and inversion"
   ]
  },
  {
   "cell_type": "markdown",
   "metadata": {},
   "source": [
    "A similar issue arises with matrix multiplication and inversion : the AD information is lost. An appropriate syntax, presented below, allows to preserve it.\n"
   ]
  },
  {
   "cell_type": "code",
   "execution_count": 174,
   "metadata": {},
   "outputs": [],
   "source": [
    "v = ad.Dense.denseAD( np.random.standard_normal((4,)),np.random.standard_normal((4,4)))\n",
    "m0 = np.random.standard_normal((4,4))\n",
    "m1 = scipy.sparse.coo_matrix( ([1.,2.,3.,4.,5.],([0,2,1,2,3],[0,1,2,2,3]))).tocsr()"
   ]
  },
  {
   "cell_type": "code",
   "execution_count": 169,
   "metadata": {},
   "outputs": [
    {
     "name": "stdout",
     "output_type": "stream",
     "text": [
      "np.dot looses AD: [ 1.70530847 -0.11456795 -0.73066176  1.48267191]\n",
      "scipy '*' looses AD: [1.67581874 2.97884129 3.97178838 0.20522961]\n"
     ]
    }
   ],
   "source": [
    "print(\"np.dot looses AD:\",np.dot(m0,v))\n",
    "print(\"scipy '*' looses AD:\",m1*v.value)"
   ]
  },
  {
   "cell_type": "code",
   "execution_count": 180,
   "metadata": {},
   "outputs": [
    {
     "name": "stdout",
     "output_type": "stream",
     "text": [
      "np.dot with AD:\n",
      " denseAD([-1.89150544  0.3796543   1.30376865 -0.98564952],\n",
      "[[-1.6848455  -2.83764912  1.77247252 -2.77079864]\n",
      " [-2.20391131 -0.56107039  1.68847524 -2.58272018]\n",
      " [ 1.01843512 -1.36934636  0.89630998 -1.31008306]\n",
      " [-2.03349406 -1.29100599  1.54521456 -2.07800914]])\n",
      "scipy '*' with AD:\n",
      " denseAD([ 0.8778869   1.1385308   2.85995405 -7.16854102],\n",
      "[[-0.34111709 -0.14956627  0.64471031 -1.03636975]\n",
      " [ 3.67738763 -0.04489892 -4.54696905 -1.30243209]\n",
      " [ 5.89038497 -2.86303733 -4.29064566 -4.47909757]\n",
      " [-5.90443925 -4.00817189 -1.08642606 -7.62422685]])\n"
     ]
    }
   ],
   "source": [
    "print(\"np.dot with AD:\\n\",ad.apply_linear_mapping(m0,v))\n",
    "print(\"scipy '*' with AD:\\n\",ad.apply_linear_mapping(m1,v))"
   ]
  },
  {
   "cell_type": "code",
   "execution_count": 179,
   "metadata": {},
   "outputs": [
    {
     "name": "stdout",
     "output_type": "stream",
     "text": [
      "scipy solve with AD :\n",
      " denseAD([ 0.8778869  -0.25754919  0.22365216 -0.28674164],\n",
      "[[-0.34111709 -0.14956627  0.64471031 -1.03636975]\n",
      " [ 0.28383078  0.92690755 -1.34848809  0.6971018 ]\n",
      " [ 0.16453358 -0.46719535  0.29532996 -0.45708691]\n",
      " [-0.23617757 -0.16032688 -0.04345704 -0.30496907]])\n"
     ]
    }
   ],
   "source": [
    "print(\"scipy solve with AD :\\n\",ad.apply_linear_inverse(scipy.sparse.linalg.spsolve,m1,v))"
   ]
  },
  {
   "cell_type": "markdown",
   "metadata": {},
   "source": [
    "## 3. In place modifications and aliasing\n",
    "\n",
    "The AD information often consists of very large arrays. In order to save time and memory, this information is not systematically copied and/or stored fully. It can take the form of a broadcasted array, or of an alias to another array. In that case a copy is necessary to enable modifications."
   ]
  },
  {
   "cell_type": "markdown",
   "metadata": {},
   "source": [
    "### 3.1 Aliasing of the AD information\n",
    "\n",
    "When an operation leaves the AD information untouched, an alias is used. This can lead to bugs if in place modifications are used afterward."
   ]
  },
  {
   "cell_type": "code",
   "execution_count": 36,
   "metadata": {},
   "outputs": [],
   "source": [
    "x=ad.Dense.identity(constant=np.array([1.,2.]))\n",
    "y=x+1 # Only affects the value, not the AD information"
   ]
  },
  {
   "cell_type": "code",
   "execution_count": 37,
   "metadata": {},
   "outputs": [
    {
     "name": "stdout",
     "output_type": "stream",
     "text": [
      "Values are distinct : False\n",
      "AD information is shared : True\n"
     ]
    }
   ],
   "source": [
    "print(\"Values are distinct :\", x.value is y.value)\n",
    "print(\"AD information is shared :\", y.coef is x.coef)"
   ]
  },
  {
   "cell_type": "markdown",
   "metadata": {},
   "source": [
    "A modification of the aliased variable will impact the original one."
   ]
  },
  {
   "cell_type": "code",
   "execution_count": 38,
   "metadata": {},
   "outputs": [
    {
     "name": "stdout",
     "output_type": "stream",
     "text": [
      "denseAD(1.0,[1. 0.])\n",
      "Caution ! Shared AD information is affected : denseAD(1.0,[2. 0.])\n"
     ]
    }
   ],
   "source": [
    "print(x[0])\n",
    "y[0]*=2\n",
    "print(\"Caution ! Shared AD information is affected :\", x[0])"
   ]
  },
  {
   "cell_type": "markdown",
   "metadata": {},
   "source": [
    "Avoid this effect by making a copy."
   ]
  },
  {
   "cell_type": "code",
   "execution_count": 39,
   "metadata": {},
   "outputs": [
    {
     "name": "stdout",
     "output_type": "stream",
     "text": [
      "AD information is distinct : False\n"
     ]
    }
   ],
   "source": [
    "x=ad.Dense.identity(constant=np.array([1.,2.]))\n",
    "y=(x+1).copy()\n",
    "print(\"AD information is distinct :\", y.coef is x.coef)"
   ]
  },
  {
   "cell_type": "markdown",
   "metadata": {},
   "source": [
    "Note that a similar effect arises with the `-` binary operator, but not with `*`or `/`. That is because the latter modify the AD information, which therefore must be copied anyway."
   ]
  },
  {
   "cell_type": "code",
   "execution_count": 40,
   "metadata": {},
   "outputs": [
    {
     "name": "stdout",
     "output_type": "stream",
     "text": [
      "AD information is shared : True\n",
      "AD information is distinct : False\n",
      "AD information is distinct : False\n"
     ]
    }
   ],
   "source": [
    "x=ad.Dense.identity(constant=np.array([1.,2.]))\n",
    "print(\"AD information is shared :\", (x-1).coef is x.coef)\n",
    "print(\"AD information is distinct :\", (x*2).coef is x.coef)\n",
    "print(\"AD information is distinct :\", (x/2).coef is x.coef)"
   ]
  },
  {
   "cell_type": "markdown",
   "metadata": {},
   "source": [
    "### 3.1 Non writeable AD information\n",
    "\n",
    "When creating an dense AD variable, the coefficients may be non writeable (e.g. broadcasted) arrays."
   ]
  },
  {
   "cell_type": "code",
   "execution_count": 41,
   "metadata": {},
   "outputs": [],
   "source": [
    "x=ad.Dense.identity(constant=np.array([[1.,2.],[3.,4.]]),shape_bound=(2,))"
   ]
  },
  {
   "cell_type": "code",
   "execution_count": 42,
   "metadata": {},
   "outputs": [
    {
     "data": {
      "text/plain": [
       "False"
      ]
     },
     "execution_count": 42,
     "metadata": {},
     "output_type": "execute_result"
    }
   ],
   "source": [
    "x.coef.flags.writeable"
   ]
  },
  {
   "cell_type": "code",
   "execution_count": 43,
   "metadata": {},
   "outputs": [],
   "source": [
    "# x+=1 # Fails because non-writeable"
   ]
  },
  {
   "cell_type": "markdown",
   "metadata": {},
   "source": [
    "Make a copy to solve the issue."
   ]
  },
  {
   "cell_type": "code",
   "execution_count": 44,
   "metadata": {},
   "outputs": [],
   "source": [
    "y=x.copy()"
   ]
  },
  {
   "cell_type": "code",
   "execution_count": 45,
   "metadata": {},
   "outputs": [
    {
     "data": {
      "text/plain": [
       "True"
      ]
     },
     "execution_count": 45,
     "metadata": {},
     "output_type": "execute_result"
    }
   ],
   "source": [
    "y.coef.flags.writeable"
   ]
  },
  {
   "cell_type": "code",
   "execution_count": 46,
   "metadata": {},
   "outputs": [],
   "source": [
    "y+=1"
   ]
  },
  {
   "cell_type": "code",
   "execution_count": null,
   "metadata": {},
   "outputs": [],
   "source": []
  }
 ],
 "metadata": {
  "kernelspec": {
   "display_name": "Python 3",
   "language": "python",
   "name": "python3"
  },
  "language_info": {
   "codemirror_mode": {
    "name": "ipython",
    "version": 3
   },
   "file_extension": ".py",
   "mimetype": "text/x-python",
   "name": "python",
   "nbconvert_exporter": "python",
   "pygments_lexer": "ipython3",
   "version": "3.7.3"
  }
 },
 "nbformat": 4,
 "nbformat_minor": 2
}
