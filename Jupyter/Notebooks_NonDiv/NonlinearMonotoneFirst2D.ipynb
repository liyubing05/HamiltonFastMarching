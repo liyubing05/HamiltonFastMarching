{
 "cells": [
  {
   "cell_type": "markdown",
   "metadata": {},
   "source": [
    "# Adaptive PDE discretizations on cartesian grids\n",
    "\n",
    "## Part : Monotone numerical schemes\n",
    "## Chapter : PDEs with a first order non-linearity\n",
    "\n",
    "This notebook illustrates the use of monotone finite difference schemes to compute viscosity solutions of non-linear PDEs, in two space dimensions. \n",
    "We consider the PDE\n",
    "$$\n",
    "    -{\\rm Tr}(A(x) \\nabla^2 u(x)) + F(x, \\nabla u(x)) - 1 = 0,\n",
    "$$\n",
    "with Dirichlet boundary conditions, where $\\|v\\|_D^2 := <v,D v>$. \n",
    "For illustration, we consider a quadratic non-linearity:\n",
    "$$\n",
    "    F(x, \\nabla u(x)) := \\| \\nabla u(x) -\\omega(x)\\|^2_{D(x)}\n",
    "$$\n",
    "More details on this problem below.\n",
    "\n",
    "\n",
    "Two possibilities are considered for the discretization of the first order non-linear (quadratic) term, in a monotone fashion. One is second order accurate, but requires the diffusion tensors $A$ to be positive definite, and the solution to be smooth enough, for monotony to hold. The other possibility is only first order accurate, but unconditionally monotone.\n",
    "\n",
    "Our numerical schemes use adaptive stencils, and depend on Selling's decomposition of the diffusion tensors $A$ and $D$. Their implementation is fairly simple and compact (approx. ten lines) thanks to the use of automatic differentiation.\n",
    "\n",
    "**Reference.**\n",
    "\n",
    "The use of Selling's algorithm for the discretization of anisotropic PDEs was first introduced in:\n",
    "* Bonnans, J. F., Ottenwaelter, E., Zidani, H. (2004). A fast algorithm for the two dimensional HJB equation of stochastic control. ESAIM: Mathematical Modelling and Numerical Analysis, 38(4), 723–735.\n",
    "* Fehrenbach, J., & Mirebeau, J.-M. (2014). Sparse non-negative stencils for anisotropic diffusion. Journal of Mathematical Imaging and Vision, 49(1), 123–147. http://doi.org/http://dx.doi.org/10.1007/s10851-013-0446-3"
   ]
  },
  {
   "cell_type": "markdown",
   "metadata": {},
   "source": [
    "[**Summary**](Summary.ipynb) of volume Non-Divergence form PDEs, this series of notebooks.\n",
    "\n",
    "[**Main summary**](../Summary.ipynb) of the Adaptive Grid Discretizations \n",
    "\tbook of notebooks, including the other volumes.\n",
    "\n",
    "# Table of contents\n",
    "  * [1. Numerical schemes](#1.-Numerical-schemes)\n",
    "    * [1.1 Lax-Friedrichs type scheme](#1.1-Lax-Friedrichs-type-scheme)\n",
    "    * [1.2 Upwind type scheme](#1.2-Upwind-type-scheme)\n",
    "    * [1.3 Numerical tests](#1.3-Numerical-tests)\n",
    "    * [1.4 Alternative centered scheme](#1.4-Alternative-centered-scheme)\n",
    "  * [2. Pure eikonal equations](#2.-Pure-eikonal-equations)\n",
    "    * [2.1 A Riemannian eikonal equation](#2.1-A-Riemannian-eikonal-equation)\n",
    "    * [2.2 An eikonal equation of Rander type](#2.2-An-eikonal-equation-of-Rander-type)\n",
    "\n",
    "\n",
    "\n",
    "**Acknowledgement.** The experiments presented in these notebooks are part of ongoing research, \n",
    "some of it with PhD student Guillaume Bonnet, in co-direction with Frederic Bonnans.\n",
    "\n",
    "Copyright Jean-Marie Mirebeau, University Paris-Sud, CNRS, University Paris-Saclay"
   ]
  },
  {
   "cell_type": "markdown",
   "metadata": {},
   "source": [
    "## 0. Importing the required libraries"
   ]
  },
  {
   "cell_type": "code",
   "execution_count": 3,
   "metadata": {},
   "outputs": [],
   "source": [
    "import sys; sys.path.insert(0,\"..\") # Allow import of agd from parent directory (useless if conda package installed)\n",
    "#from Miscellaneous import TocTools; print(TocTools.displayTOC('NonlinearMonotoneFirst2D','NonDiv'))"
   ]
  },
  {
   "cell_type": "code",
   "execution_count": 5,
   "metadata": {
    "tags": [
     "ExportCode"
    ]
   },
   "outputs": [],
   "source": [
    "from agd import Selling\n",
    "from agd import LinearParallel as lp\n",
    "from agd import AutomaticDifferentiation as ad\n",
    "from agd import Domain"
   ]
  },
  {
   "cell_type": "code",
   "execution_count": 6,
   "metadata": {
    "tags": [
     "ExportCode"
    ]
   },
   "outputs": [],
   "source": [
    "import numpy as np\n",
    "import matplotlib.pyplot as plt\n",
    "import scipy.linalg;\n",
    "import itertools"
   ]
  },
  {
   "cell_type": "markdown",
   "metadata": {},
   "source": [
    "Some utility functions"
   ]
  },
  {
   "cell_type": "code",
   "execution_count": 7,
   "metadata": {},
   "outputs": [],
   "source": [
    "newton_root = ad.Optimization.newton_root\n",
    "stop = ad.Optimization.stop_default\n",
    "every4 = itertools.count(1,4)"
   ]
  },
  {
   "cell_type": "code",
   "execution_count": 8,
   "metadata": {},
   "outputs": [],
   "source": [
    "def reload_packages():\n",
    "    import importlib\n",
    "    Selling = importlib.reload(sys.modules['agd.Selling'])\n",
    "    lp = importlib.reload(sys.modules['agd.LinearParallel'])\n",
    "    ad = importlib.reload(sys.modules['agd.AutomaticDifferentiation'])\n",
    "    Domain = importlib.reload(sys.modules['agd.Domain'])\n",
    "    ad.reload_submodules()"
   ]
  },
  {
   "cell_type": "markdown",
   "metadata": {},
   "source": [
    "## 1. Numerical schemes\n",
    "\n",
    "We propose several approches for discretizing the proposed PDE, whose properties are summarized below:\n",
    "\n",
    "| Description | Monotony | Accuracy | Non-linearity |\n",
    "|--|--|--|--|\n",
    "| Lax-Fredrichs type | Conditional | Second order | General |\n",
    "| Upwind type | Unconditional | First order | Quadratic |\n",
    "\n",
    "<!---| Alternative centered | Conditional | Second order | Quadratic specific |\n",
    "--->"
   ]
  },
  {
   "cell_type": "markdown",
   "metadata": {},
   "source": [
    "### 1.1 Lax-Friedrichs type scheme \n",
    "\n",
    "Recall that we consider the PDE \n",
    "$$\n",
    "-{\\rm Tr}(A(x) \\nabla^2 u(x)) + F(x, \\nabla u(x)) - 1 = \n",
    "$$\n",
    "with Dirichlet boundary conditions. \n",
    "\n",
    "We propose below a numerical scheme, that is degenerate elliptic (maximum principle holds) under the following additional assumptions:\n",
    "* the tensors $A(x)$ are Lipschitz and uniformly positive definite,\n",
    "* the function $F$ uniformly Lipschitz in its second variable, \n",
    "* the discretization grid scale $h>0$ is sufficiently small.\n",
    "\n",
    "The discretization of the first order term $F(x,\\nabla u(x))$ is based on a variant of the Lax-Friedrichs approximation. We rely on centered finite differences for the first order term $F(x,\\nabla u(x))$, and compensate their lack of monotony using the second order term $-{\\rm tr}(A(x) \\nabla^2 u(x))$. \n",
    "Note : the usual Lax-Friedrichs approximation is obtained in the special case where $A = h {\\rm Id}$.\n",
    "\n",
    "**Note on the uniform Lipschitz regularity assumption.**\n",
    "The non-linearity $F$ considered in our examples is quadratic, hence isn't uniformly Lipschitz. \n",
    "As a result, the scheme looses the degenerate ellipticity property if the solution gradient is excessively large, or unbounded.\n",
    "\n",
    "**Second order term.** Consider a tensor decomposition of the form\n",
    "$$\n",
    "    A(x) = \\sum_{1 \\leq i \\leq n} \\mu_i(x) e_i(x) e_i(x)^T,\n",
    "$$\n",
    "where $\\mu_i(x)\\geq 0$ and $e_i(x)$ has integer entries. Typically, we obtain such a decomposition using Selling's formula. The second order part of the operator is discretized using centered finite differences.\n",
    "$$\n",
    "    -{\\rm Tr}(A(x) \\nabla^2 u(x)) = -\\sum_{1 \\leq i \\leq n} \\mu_i(x) \\frac{u(x+he_i(x)) - 2 u(x) +u(x-h e_i(x))}{h^2} + O(h^2).\n",
    "$$\n",
    "\n",
    "\n",
    "**First order term.**\n",
    "We approximate the product $A(x)\\nabla u(x)$ using second order finite differences:\n",
    "$$\n",
    "A(x) \\nabla u(x) = \\sum_{1 \\leq i \\leq n} \\mu_i \\frac{u(x+h e_i)-u(x-h e_i)} {2 h} e_i + O(h^2).\n",
    "$$\n",
    "Form this point, a second order finite difference approximation of the gradient $\\nabla u(x)$ is obtained by applying the linear mapping $A(x)^{-1}$ to both sides. After what, the non-linear functional $F$ can be applied to both sides. No specific form of this functional is required."
   ]
  },
  {
   "cell_type": "code",
   "execution_count": 9,
   "metadata": {
    "tags": [
     "ExportCode"
    ]
   },
   "outputs": [],
   "source": [
    "def Gradient(u,A,bc,decomp=None):\n",
    "    \"\"\"\n",
    "    Approximates grad u(x), using finite differences along the axes of A.\n",
    "    \"\"\"\n",
    "    coefs,offsets = Selling.Decomposition(A) if decomp is None else decomp\n",
    "    du = bc.DiffCentered(u,offsets) \n",
    "    AGrad = lp.dot_AV(offsets.astype(float),(coefs*du)) # Approximates A * grad u\n",
    "    return lp.solve_AV(A,AGrad) # Approximates A^{-1} (A * grad u) = grad u"
   ]
  },
  {
   "cell_type": "code",
   "execution_count": 10,
   "metadata": {
    "tags": [
     "ExportCode"
    ]
   },
   "outputs": [],
   "source": [
    "def SchemeLaxFriedrichs(u,A,F,bc):\n",
    "    \"\"\"\n",
    "    Discretization of - Tr(A(x) hess u(x)) + F(grad u(x)) - 1 = 0,\n",
    "    with Dirichlet boundary conditions. The scheme is second order,\n",
    "    and degenerate elliptic under suitable assumptions.\n",
    "    \"\"\"\n",
    "    # Compute the tensor decomposition\n",
    "    coefs,offsets = Selling.Decomposition(A)\n",
    "    A,coefs,offsets = (bc.as_field(e) for e in (A,coefs,offsets))\n",
    "    \n",
    "    # Obtain the first and second order finite differences\n",
    "    grad = Gradient(u,A,bc,decomp=(coefs,offsets))\n",
    "    d2u = bc.Diff2(u,offsets)    \n",
    "    \n",
    "    # Numerical scheme in interior    \n",
    "    residue = -lp.dot_VV(coefs,d2u) + F(grad) -1.\n",
    "    \n",
    "    # Placeholders outside domain\n",
    "    return ad.where(bc.interior,residue,u-bc.grid_values)"
   ]
  },
  {
   "cell_type": "code",
   "execution_count": 11,
   "metadata": {
    "tags": [
     "ExportCode"
    ]
   },
   "outputs": [],
   "source": [
    "# Specialization for the quadratic non-linearity\n",
    "def SchemeLaxFriedrichs_Quad(u,A,omega,D,bc):\n",
    "    omega,D = (bc.as_field(e) for e in (omega,D))\n",
    "    def F(g): return lp.dot_VAV(g-omega,D,g-omega)\n",
    "    return SchemeLaxFriedrichs(u,A,F,bc)"
   ]
  },
  {
   "cell_type": "markdown",
   "metadata": {},
   "source": [
    "### 1.2 Upwind type scheme\n",
    "\n",
    "As announced we assume here a specific form of the PDE non-linearity:\n",
    "$$\n",
    "    F(x,\\nabla u(x)) = \\|\\nabla u(x) - \\omega(x)\\|^2_{D(x)}\n",
    "$$\n",
    "\n",
    "We propose below a numerical schemes that is degenerate elliptic as soon as $D$ and $A$ are everywhere positive definite. (Or positive semi-definite, provided the required tensor decompositions exist.)\n",
    "\n",
    "For that purpose, we introduce a decomposition of the tensors appearing in the first order non-linearity\n",
    "$$\n",
    "    D(x) = \\sum_{1 \\leq i \\leq n} \\nu_i(x) f_i(x) f_i(x)^T,\n",
    "$$\n",
    "involving again non-negative weights $\\nu_i(x)\\geq 0$ and offsets with integer coordinates $f_i(x) \\in Z^d$.\n",
    "We then discretize the non-linearity using first order upwind finite differences\n",
    "$$\n",
    "    F(x,\\nabla u(x)) = \n",
    "     \\sum_{1 \\leq i \\leq n} \\nu_i(x) \\max\\left\\{0,\n",
    "    <\\omega(x),f_i(x)> - \\frac{u(x+h f_i(x))-u(x)}{h},\n",
    "    -<\\omega(x),f_i(x)> - \\frac{u(x-h f_i(x))-u(x)}{h}\n",
    "    \\right\\}^2 + O(h)\n",
    "$$"
   ]
  },
  {
   "cell_type": "code",
   "execution_count": 12,
   "metadata": {},
   "outputs": [],
   "source": [
    "def SchemeUpwind(u,A,omega,D,bc):\n",
    "    # Compute the decompositions (here offset_e = offset_f)\n",
    "    nothing = (np.full((0,),0.), np.full((2,0),0)) # empty coefs and offsets\n",
    "    mu,offset_e = nothing if A is None else Selling.Decomposition(A) \n",
    "    nu,offset_f = nothing if D is None else Selling.Decomposition(D)\n",
    "    omega_f = lp.dot_VA(omega,offset_f.astype(float))\n",
    "\n",
    "    # First and second order finite differences\n",
    "    maxi = np.maximum\n",
    "    mu,nu,omega_f = (bc.as_field(e) for e in (mu,nu,omega_f))\n",
    "\n",
    "    dup = bc.DiffUpwind(u, offset_f)\n",
    "    dum = bc.DiffUpwind(u,-offset_f)\n",
    "    dup[...,bc.not_interior]=0. # Placeholder values to silence NaN warnings\n",
    "    dum[...,bc.not_interior]=0.\n",
    "    \n",
    "    d2u = bc.Diff2(u,offset_e)\n",
    "        \n",
    "    # Scheme in the interior\n",
    "    du = maxi(0.,maxi( omega_f - dup, -omega_f - dum) )\n",
    "    residue = - lp.dot_VV(mu,d2u) + lp.dot_VV(nu,du**2) - 1.\n",
    "\n",
    "    # Placeholders outside domain\n",
    "    return ad.where(bc.interior,residue,u-bc.grid_values)"
   ]
  },
  {
   "cell_type": "markdown",
   "metadata": {},
   "source": [
    "### 1.3 Numerical tests"
   ]
  },
  {
   "cell_type": "markdown",
   "metadata": {},
   "source": [
    "We next choose some problem parameters. As a starter we solve \n",
    "$$\n",
    "    -\\epsilon \\Delta u +\\| \\nabla u\\|^2 -1 = 0,\n",
    "$$\n",
    "with on the unit disk $B(0,1)$, with null boundary conditions.\n",
    "This is a a relaxation of the eikonal equation, and the solution is therefore close to the distance to the disk boundary."
   ]
  },
  {
   "cell_type": "code",
   "execution_count": 13,
   "metadata": {},
   "outputs": [],
   "source": [
    "# Create the domain\n",
    "aX0 = np.linspace(-1,1,100); aX1=aX0;\n",
    "X = np.array(np.meshgrid(aX0,aX1,indexing='ij'))\n",
    "\n",
    "# Unit ball, with null Dirichlet boundary conditions, on grid X\n",
    "bc = Domain.Dirichlet(Domain.Ball(),0.,X)\n",
    "\n",
    "# A correctly shaped arbitrary guess for the solvers\n",
    "guess = np.zeros(bc.shape) "
   ]
  },
  {
   "cell_type": "code",
   "execution_count": 14,
   "metadata": {},
   "outputs": [],
   "source": [
    "A = 0.1*np.eye(2) \n",
    "omega = np.zeros(2)\n",
    "D = np.eye(2)"
   ]
  },
  {
   "cell_type": "code",
   "execution_count": 15,
   "metadata": {},
   "outputs": [
    {
     "name": "stdout",
     "output_type": "stream",
     "text": [
      "Lax-Friedrichs discretization\n",
      "Iteration: 1  Residue norm: 24.997129784978085\n",
      "Iteration: 2  Residue norm: 6.0009546384507635\n",
      "Iteration: 3  Residue norm: 1.2706937059935033\n",
      "Iteration: 4  Residue norm: 0.1638653681849953\n",
      "Iteration: 5  Residue norm: 0.004179534563757414\n",
      "Iteration: 6  Residue norm: 2.1327354919886687e-06\n",
      "Iteration: 7  Residue norm: 3.2085445411667024e-13\n",
      "Target residue reached. Terminating.\n",
      "\n",
      "Upwind discretization\n",
      "Iteration: 1  Residue norm: 24.997129784978085\n",
      "Iteration: 2  Residue norm: 6.002359177514885\n",
      "Iteration: 3  Residue norm: 1.2732773536854767\n",
      "Iteration: 4  Residue norm: 0.16572825463016638\n",
      "Iteration: 5  Residue norm: 0.004375491574369228\n",
      "Iteration: 6  Residue norm: 2.4701993353026808e-06\n",
      "Iteration: 7  Residue norm: 4.847233725513433e-13\n",
      "Target residue reached. Terminating.\n"
     ]
    }
   ],
   "source": [
    "params0 = (A,omega,D,bc)\n",
    "print(\"Lax-Friedrichs discretization\"); \n",
    "solution_lf = newton_root(SchemeLaxFriedrichs_Quad,guess,params0)\n",
    "print()\n",
    "print(\"Upwind discretization\");   \n",
    "solution_upwind = newton_root(SchemeUpwind,guess,params0)"
   ]
  },
  {
   "cell_type": "code",
   "execution_count": 26,
   "metadata": {},
   "outputs": [
    {
     "data": {
      "image/png": "[encoded data removed]",
      "text/plain": [
       "<Figure size 648x288 with 2 Axes>"
      ]
     },
     "metadata": {
      "needs_background": "light"
     },
     "output_type": "display_data"
    }
   ],
   "source": [
    "plt.figure(figsize=(9,4))\n",
    "plt.subplot(1,2,1); plt.axis('equal'); plt.title('Lax Friedrichs solution')\n",
    "plt.contourf(*X,solution_lf);\n",
    "plt.subplot(1,2,2); plt.axis('equal'); plt.title('Upwind solution')\n",
    "plt.contourf(*X,solution_upwind);"
   ]
  },
  {
   "cell_type": "markdown",
   "metadata": {},
   "source": [
    "We introduce a drift term $\\omega$. While $|\\omega|<1$, the deterministic optimal control problem corresponding to $\\|\\nabla u - \\omega\\|=1$ remains locally controllable. The solution is smooth enough that the centered scheme remains monotone, and the two solutions agree."
   ]
  },
  {
   "cell_type": "code",
   "execution_count": 53,
   "metadata": {},
   "outputs": [],
   "source": [
    "drift_direction = np.array( (1,1) )/np.sqrt(2)"
   ]
  },
  {
   "cell_type": "code",
   "execution_count": 54,
   "metadata": {},
   "outputs": [
    {
     "name": "stdout",
     "output_type": "stream",
     "text": [
      "Lax-Friedrichs discretization\n",
      "Iteration: 1  Residue norm: 26.90216512436584\n",
      "Iteration: 2  Residue norm: 6.451675843461089\n",
      "Iteration: 3  Residue norm: 0.855334819870081\n",
      "Iteration: 4  Residue norm: 0.01142673650661763\n",
      "Iteration: 5  Residue norm: 1.3783786061427605e-06\n",
      "Iteration: 6  Residue norm: 7.038813976123492e-14\n",
      "Target residue reached. Terminating.\n",
      "\n",
      "Upwind discretization\n",
      "Iteration: 1  Residue norm: 22.653683139386036\n",
      "Iteration: 2  Residue norm: 5.3041852471735425\n",
      "Iteration: 3  Residue norm: 0.7348356581854567\n",
      "Iteration: 4  Residue norm: 0.013536230777881686\n",
      "Iteration: 5  Residue norm: 2.8301299401789493e-06\n",
      "Iteration: 6  Residue norm: 9.237055564881302e-14\n",
      "Target residue reached. Terminating.\n"
     ]
    },
    {
     "data": {
      "image/png": "[encoded data removed]",
      "text/plain": [
       "<Figure size 648x288 with 2 Axes>"
      ]
     },
     "metadata": {
      "needs_background": "light"
     },
     "output_type": "display_data"
    }
   ],
   "source": [
    "params1 = (A,0.8*drift_direction,D,bc)\n",
    "print(\"Lax-Friedrichs discretization\"); \n",
    "solution_lf = newton_root(SchemeLaxFriedrichs_Quad,guess,params1)\n",
    "print()\n",
    "print(\"Upwind discretization\");   \n",
    "solution_upwind = newton_root(SchemeUpwind,guess,params1)\n",
    "\n",
    "plt.figure(figsize=(9,4))\n",
    "plt.subplot(1,2,1); plt.axis('equal'); plt.title('Lax Friedrichs solution')\n",
    "plt.contourf(*X,solution_lf);\n",
    "plt.subplot(1,2,2); plt.axis('equal'); plt.title('Upwind solution')\n",
    "plt.contourf(*X,solution_upwind);"
   ]
  },
  {
   "cell_type": "markdown",
   "metadata": {},
   "source": [
    "On the other hand, if $|\\omega|>1$, then the solution features a boundary layer, along which the gradient norm is large. As a result, the centered scheme looses monotonicity, and cannot the solver fails. "
   ]
  },
  {
   "cell_type": "code",
   "execution_count": 55,
   "metadata": {},
   "outputs": [
    {
     "name": "stdout",
     "output_type": "stream",
     "text": [
      "Centered discretization\n",
      "Iteration: 1  Residue norm: 41.24130250591032\n",
      "Iteration: 2  Residue norm: 1971911.6268226595\n",
      "Iteration: 3  Residue norm: 492995.12851179397\n",
      "Iteration: 4  Residue norm: 123271.66780061007\n",
      "Iteration: 5  Residue norm: 30851.74872017297\n",
      "Iteration: 6  Residue norm: 7728.897751096237\n",
      "Iteration: 8  Residue norm: 1347.759387555116\n",
      "Iteration: 10  Residue norm: 6568.503141697872\n",
      "Iteration: 12  Residue norm: 3387.608208283898\n",
      "Max iterations exceeded. Aborting.\n",
      "\n",
      "Upwind discretization\n",
      "Iteration: 1  Residue norm: 20.49839141556153\n",
      "Iteration: 2  Residue norm: 1.3184054014055704\n",
      "Iteration: 3  Residue norm: 0.0033087194285315036\n",
      "Iteration: 4  Residue norm: 3.054501505062035e-07\n",
      "Iteration: 5  Residue norm: 1.0702549957386509e-13\n",
      "Target residue reached. Terminating.\n"
     ]
    },
    {
     "data": {
      "image/png": "[encoded data removed]",
      "text/plain": [
       "<Figure size 648x288 with 2 Axes>"
      ]
     },
     "metadata": {
      "needs_background": "light"
     },
     "output_type": "display_data"
    }
   ],
   "source": [
    "params2 = (A,1.2*drift_direction,D,bc)\n",
    "print(\"Centered discretization\"); \n",
    "solution_lf = newton_root(SchemeLaxFriedrichs_Quad,guess,params2,\n",
    "                          stop=stop(niter_max=12,raise_on_abort=False))\n",
    "print()\n",
    "print(\"Upwind discretization\");   \n",
    "solution_upwind = newton_root(SchemeUpwind,guess,params2)\n",
    "\n",
    "plt.figure(figsize=(9,4))\n",
    "plt.subplot(1,2,1); plt.axis('equal'); plt.title('Lax-Friedrichs solution')\n",
    "plt.contourf(*X,solution_lf);\n",
    "plt.subplot(1,2,2); plt.axis('equal'); plt.title('Upwind solution')\n",
    "plt.contourf(*X,solution_upwind);"
   ]
  },
  {
   "cell_type": "markdown",
   "metadata": {},
   "source": [
    "The upwind scheme is monotone and solvable even for a vanishing diffusion tensor field $A$.\n",
    "\n",
    "A numerical difficulty arises however for our Newton solver : the jacobian matrix $J$ of the scheme may not be invertible. Fortunately but $J+ \\epsilon {\\rm Id}$ is invertible for any $\\epsilon>0$."
   ]
  },
  {
   "cell_type": "code",
   "execution_count": 56,
   "metadata": {},
   "outputs": [
    {
     "name": "stdout",
     "output_type": "stream",
     "text": [
      "Iteration: 1  Residue norm: 6.780483386067673\n",
      "Iteration: 2  Residue norm: 1.6465969261622502\n",
      "Iteration: 3  Residue norm: 0.2760592871868235\n",
      "Iteration: 4  Residue norm: 0.0205252228322772\n",
      "Iteration: 5  Residue norm: 0.0019642287782795087\n",
      "Iteration: 6  Residue norm: 0.0003491598465925616\n",
      "Iteration: 8  Residue norm: 7.236347913330832e-06\n",
      "Iteration: 10  Residue norm: 9.560639435690632e-08\n",
      "Iteration: 11  Residue norm: 9.556371916019657e-09\n",
      "Target residue reached. Terminating.\n"
     ]
    },
    {
     "data": {
      "image/png": "[encoded data removed]",
      "text/plain": [
       "<Figure size 432x288 with 1 Axes>"
      ]
     },
     "metadata": {
      "needs_background": "light"
     },
     "output_type": "display_data"
    }
   ],
   "source": [
    "params = (None,1.2*drift_direction,D,bc)\n",
    "epsilon=1; relax = epsilon*ad.Sparse.identity(bc.shape)\n",
    "solution_upwind = newton_root(SchemeUpwind,guess,params,relax=relax)\n",
    "\n",
    "\n",
    "plt.axis('equal'); plt.title('Upwind solution')\n",
    "plt.contourf(*X,solution_upwind);"
   ]
  },
  {
   "cell_type": "markdown",
   "metadata": {},
   "source": [
    "For validation purposes, we reproduce the canonical example of a laplacian over a square domain."
   ]
  },
  {
   "cell_type": "code",
   "execution_count": 57,
   "metadata": {},
   "outputs": [
    {
     "name": "stdout",
     "output_type": "stream",
     "text": [
      "Iteration: 1  Residue norm: 2.5011104298755527e-12\n",
      "Target residue reached. Terminating.\n"
     ]
    },
    {
     "data": {
      "image/png": "[encoded data removed]",
      "text/plain": [
       "<Figure size 432x288 with 1 Axes>"
      ]
     },
     "metadata": {
      "needs_background": "light"
     },
     "output_type": "display_data"
    }
   ],
   "source": [
    "bc_square = Domain.MockDirichlet(bc.shape,bc.gridscale,0.)\n",
    "params = (np.eye(2),np.zeros(2),None,bc_square)\n",
    "solution_upwind = newton_root(SchemeUpwind,guess,params)\n",
    "\n",
    "plt.axis('equal'); plt.title('Laplacian on a square')\n",
    "plt.contourf(*X,solution_upwind);"
   ]
  },
  {
   "cell_type": "markdown",
   "metadata": {},
   "source": [
    "### 1.4 Alternative centered scheme\n",
    "\n",
    "For completeness, we present a last scheme, that mixes the discretization principles of the previous two. In the considered examples, it behaves similarly to the Lax-Friedrichs type scheme. We use:\n",
    "* Centered finite differences for second order accuracy,\n",
    "* A sum-of-squares decomposition of the non-linearity, which is assumed to be quadratic.\n",
    "\n",
    "In addition, the quadratic non-linearity must be defined in terms of a tensor $D(x)$ which is *proportionnal* to diffusion tensor $A(x)$. This is strong restriction, which possibly makes this scheme less useful in applications. This assumption could be weakened, but the the scheme would become more complex.\n",
    "\n",
    "The resulting scheme is degenerate elliptic under the condition that\n",
    "* $A(x)$ is positive definite at each point.\n",
    "* $D(x)$ obeys a compatibility condition, satisfied in particular if $D(x)=\\alpha(x) A(x)$ at each point.\n",
    "* The grid scale $h>0$ is sufficiently small.\n",
    "<!---* $D(x)$ is *proportionnal* to $A(x)$ at each point.--->\n",
    "\n",
    "\n",
    "The approximation of the first order non-linearity reads\n",
    "$$\n",
    "    F(x,\\nabla u(x)) =  \\sum_{1 \\leq i \\leq n} \\nu_i(x) \\left(\\frac{u(x+h e_i(x))-u(x-h e_i(x))}{2 h} - <\\omega(x),e_i(x)>\\right)^2+ O(h)\n",
    "$$\n",
    "where \n",
    "$$\n",
    "    D(x) = \\sum_{1 \\leq i \\leq n} \\nu_i(x) e_i(x) e_i(x)^T\n",
    "$$\n",
    "is a tensor decomposition over the same stencil as $A(x)$, but with possibly negative weights $\\nu_i(x)\\in R$. This scheme is monotone provided the solution gradient is suitably bounded and \n",
    "$$\n",
    "    \\mu_i \\geq h |\\nu_i|,\n",
    "$$\n",
    "where $h$ is the discretization grid scale. This is in particular the case if $A(x) = \\alpha(x) D(x)$ where $\\alpha(x) \\geq h$, at each point $x$.\n",
    "\n",
    "<!---\n",
    "*Note on the case where $A$ and $D$ are not proportionnal.* If $A$ and $D$ are not proportional, but both are positive definite, then one may rewrite the PDE as \n",
    "$$\n",
    "    -{\\rm tr}(\\tilde A(x) \\nabla^2 u(x)) -\\alpha(x){\\rm tr}(D(x) \\nabla^2 u(x))  + \\| \\nabla u(x) -\\omega(x)\\|^2_{D(x)} - 1 = 0,\n",
    "$$\n",
    "where for instance \n",
    "$$\n",
    "1/\\alpha(x) := 2 {\\rm tr} (D(x) A(x)^{-1}),\n",
    "$$\n",
    "which ensures that $\\tilde A(x) := A(x)-\\alpha(x) D(x)$ is positive definite, at each discretization point $x$. Monotony holds for the resulting scheme, provided $\\alpha(x) \\geq h$ and the solution gradient is suitably bounded.\n",
    "--->"
   ]
  },
  {
   "cell_type": "code",
   "execution_count": 58,
   "metadata": {},
   "outputs": [],
   "source": [
    "def SchemeCentered(u,A,omega,D,bc):\n",
    "    # Compute the decompositions (here offset_e = offset_f)\n",
    "    sb = Selling.ObtuseSuperbase(A) \n",
    "    mu,offset_e = Selling.Decomposition(A,sb=sb) # Non-negative decomposition\n",
    "    nu,offset_f = Selling.Decomposition(D,sb=sb) # Decomposition with the same offsets\n",
    "    omega_f = lp.dot_VA(omega,offset_f.astype(float))\n",
    "\n",
    "    # Compute the first and second order finite differences\n",
    "    du  = bc.DiffCentered(u,offset_f)\n",
    "    d2u = bc.Diff2(u,offset_e)\n",
    "    \n",
    "    # Scheme in the interior\n",
    "    mu,nu,omega_f = (bc.as_field(e) for e in (mu,nu,omega_f)) \n",
    "    residue = -lp.dot_VV(mu,d2u) + lp.dot_VV(nu, (du-omega_f)**2) - 1.\n",
    "\n",
    "    # Boundary conditions\n",
    "    return ad.where(bc.interior,residue,u-bc.grid_values)"
   ]
  },
  {
   "cell_type": "code",
   "execution_count": 59,
   "metadata": {},
   "outputs": [
    {
     "name": "stdout",
     "output_type": "stream",
     "text": [
      "\n",
      "No drift\n",
      "Iteration: 1  Residue norm: 24.997129784978085\n",
      "Iteration: 2  Residue norm: 6.000954638450762\n",
      "Iteration: 3  Residue norm: 1.2706937059935064\n",
      "Iteration: 4  Residue norm: 0.1638653681849962\n",
      "Iteration: 5  Residue norm: 0.0041795345637580805\n",
      "Iteration: 6  Residue norm: 2.1327354919886687e-06\n",
      "Iteration: 7  Residue norm: 3.2107649872159527e-13\n",
      "Target residue reached. Terminating.\n",
      "\n",
      "Weak drift\n",
      "Iteration: 1  Residue norm: 26.902165124367492\n",
      "Iteration: 2  Residue norm: 6.451675843461539\n",
      "Iteration: 3  Residue norm: 0.8553348198701891\n",
      "Iteration: 4  Residue norm: 0.011426736506621404\n",
      "Iteration: 5  Residue norm: 1.3783786017018684e-06\n",
      "Iteration: 6  Residue norm: 6.616929226765933e-14\n",
      "Target residue reached. Terminating.\n",
      "\n",
      "Non-controllable drift\n",
      "Iteration: 1  Residue norm: 41.2413025059103\n",
      "Iteration: 2  Residue norm: 1971911.6268226183\n",
      "Iteration: 3  Residue norm: 492995.12851178384\n",
      "Iteration: 4  Residue norm: 123271.66780060752\n",
      "Iteration: 5  Residue norm: 30851.748720172323\n",
      "Iteration: 6  Residue norm: 7728.897751096085\n",
      "Iteration: 8  Residue norm: 1347.7593875366\n",
      "Iteration: 10  Residue norm: 6568.503144657622\n",
      "Iteration: 12  Residue norm: 3387.6082065048963\n",
      "Max iterations exceeded. Aborting.\n"
     ]
    }
   ],
   "source": [
    "print()\n",
    "print(\"No drift\"); \n",
    "solution_no = newton_root(SchemeCentered,guess,params0)\n",
    "print()\n",
    "print(\"Weak drift\"); \n",
    "solution_weak = newton_root(SchemeCentered,guess,params1)\n",
    "print()\n",
    "print(\"Non-controllable drift\"); \n",
    "solution_strong = newton_root(SchemeCentered,guess,params2,\n",
    "                                stop=stop(niter_max=12,raise_on_abort=False))"
   ]
  },
  {
   "cell_type": "code",
   "execution_count": 60,
   "metadata": {},
   "outputs": [
    {
     "data": {
      "image/png": "[encoded data removed]",
      "text/plain": [
       "<Figure size 936x288 with 3 Axes>"
      ]
     },
     "metadata": {
      "needs_background": "light"
     },
     "output_type": "display_data"
    }
   ],
   "source": [
    "plt.figure(figsize=(13,4))\n",
    "plt.subplot(1,3,1); plt.axis('equal'); plt.title('No drift')\n",
    "plt.contourf(*X,solution_no);\n",
    "plt.subplot(1,3,2); plt.axis('equal'); plt.title('Weak drift')\n",
    "plt.contourf(*X,solution_weak);\n",
    "plt.subplot(1,3,3); plt.axis('equal'); plt.title('Strong drift (Scheme fails)')\n",
    "plt.contourf(*X,solution_strong);"
   ]
  },
  {
   "cell_type": "markdown",
   "metadata": {},
   "source": [
    "## 2. Pure eikonal equations\n",
    "\n",
    "The upwind scheme can accomodate, a null diffusion tensor $A$, so that the consider PDE degenerates to a first order eikonal-like equation. \n",
    "$$\n",
    "    \\|\\nabla u-\\omega\\|_D^2-1=0.\n",
    "$$\n",
    "In that case we may in addition impose the boundary condition $+\\infty$ on part of the domain boundary, in the sense of viscosity solutions. This corresponds to outflow boundary conditions."
   ]
  },
  {
   "cell_type": "markdown",
   "metadata": {},
   "source": [
    "**Note on the numerical solver.**\n",
    "In this notebook, we use a Newton-like solver for all the PDEs. While this approach does eventually work for the considered examples, let us emphasize that it *lacks both speed and robustness in the case of pure eikonal equations*. Gauss-Siedel iterations (either sweeping or adaptive) are much more adequate, or even better the single pass fast marching method (applicable to this numerical scheme when $\\omega=0$). \n",
    "\n",
    "**Stabilization of the linear solves**\n",
    "The jacobian matrix $J$ of the considered numerical scheme is not invertible, but \n",
    "$$\n",
    "    J + \\epsilon_0 {\\rm Id} - \\epsilon_1 \\Delta\n",
    "$$\n",
    "is invertible for any $\\epsilon_0>0$ and $\\epsilon_1\\geq 0$, where $\\Delta$ is the matrix of the laplacian operator.\n",
    "\n",
    "We use both $\\epsilon_0>0$ and $\\epsilon_1>0$ in the first steps of Newton method, to propagate information over the domain using the laplacian kernel. Once a good approximation of the solution is obtained, we turn to a more basic relaxation with $\\epsilon_0>0$ and $\\epsilon_1=0$."
   ]
  },
  {
   "cell_type": "markdown",
   "metadata": {},
   "source": [
    "### 2.1 A Riemannian eikonal equation\n",
    "We solve $\\|\\nabla u\\|_D = 1$, where $D$ is the inverse to a Riemannian metric, which is specified in terms of its eigenvalues and eigenvectors.\n",
    "\n",
    "In order to compute the Riemannian distance from the domain center $x_0$, we impose the Dirichlet boundary condition $u(x_0)=0$. On the domain boundary, we set $u=+\\infty$ in the sense of viscosity solutions, to impose outflow boundary conditions."
   ]
  },
  {
   "cell_type": "code",
   "execution_count": 61,
   "metadata": {},
   "outputs": [],
   "source": [
    "# Generate the metric\n",
    "eig1 = np.stack((np.full(bc.shape,1.),(np.pi/2)*np.cos(2*np.pi*X[0])))\n",
    "eig1 /= scipy.linalg.norm(eig1,axis=0) \n",
    "eig2 = np.stack( (eig1[1],-eig1[0]) ) # Rotate eig1 by pi/2\n",
    "lambda1, lambda2 = 0.8, 0.2\n",
    "metric = lambda1**-2*lp.outer_self(eig1) + lambda2**-2*lp.outer_self(eig2)\n",
    "\n",
    "# Boundary conditions set a seed in the center\n",
    "bc_eikonal_grid_values = np.full(bc.shape,np.nan)\n",
    "bc_eikonal_grid_values[bc.shape[0]//2,bc.shape[1]//2] = 1.\n",
    "\n",
    "# Outflow boundary conditions on the square boundary obtained by padding +infinity\n",
    "bc_eikonal = Domain.MockDirichlet(bc_eikonal_grid_values, bc.gridscale, padding=np.inf)"
   ]
  },
  {
   "cell_type": "code",
   "execution_count": 62,
   "metadata": {},
   "outputs": [],
   "source": [
    "# Set the problem parameters\n",
    "D_Riemann = lp.inverse(metric)\n",
    "omega_Riemann = bc.as_field(np.zeros(2))"
   ]
  },
  {
   "cell_type": "markdown",
   "metadata": {},
   "source": [
    "The following variables encode the identity and laplacian operators, devoted to the stabilization of the linear systems."
   ]
  },
  {
   "cell_type": "code",
   "execution_count": 63,
   "metadata": {},
   "outputs": [],
   "source": [
    "ident = ad.Sparse.identity(bc.shape)\n",
    "lap   = bc_eikonal.Diff2(ident,(1,0)) + bc_eikonal.Diff2(ident,(0,1))\n",
    "lap[0,:]=0.; lap[-1,:]=0.; lap[:,0]=0.; lap[:,-1]=0.; "
   ]
  },
  {
   "cell_type": "code",
   "execution_count": 64,
   "metadata": {},
   "outputs": [
    {
     "name": "stdout",
     "output_type": "stream",
     "text": [
      "Iteration: 1  Residue norm: 1.0\n",
      "Iteration: 5  Residue norm: 3.6054328928746955\n",
      "Iteration: 9  Residue norm: 194.58604911497065\n",
      "Iteration: 13  Residue norm: 3.972850814562136\n",
      "Iteration: 17  Residue norm: 2.8803427436693845\n",
      "Iteration: 20  Residue norm: 1.6378773781358211\n",
      "Max iterations exceeded. Aborting.\n",
      "\n",
      "Iteration: 1  Residue norm: 10.651492467554087\n",
      "Iteration: 5  Residue norm: 0.3407054867578183\n",
      "Iteration: 9  Residue norm: 0.02625453062696037\n",
      "Iteration: 13  Residue norm: 0.0017178774714001754\n",
      "Iteration: 17  Residue norm: 0.00010778223930818509\n",
      "Iteration: 21  Residue norm: 6.7370720742143675e-06\n",
      "Iteration: 25  Residue norm: 4.210679556138075e-07\n",
      "Iteration: 29  Residue norm: 2.6316748447108296e-08\n",
      "Iteration: 31  Residue norm: 6.579255806826723e-09\n",
      "Target residue reached. Terminating.\n"
     ]
    },
    {
     "data": {
      "image/png": "[encoded data removed]",
      "text/plain": [
       "<Figure size 432x288 with 1 Axes>"
      ]
     },
     "metadata": {
      "needs_background": "light"
     },
     "output_type": "display_data"
    }
   ],
   "source": [
    "params = (None,omega_Riemann,D_Riemann,bc_eikonal)\n",
    "\n",
    "# First run 20 iterations with a strong relaxation, featuring a laplacian\n",
    "solution_upwind = newton_root(SchemeUpwind,guess,params,relax=ident-bc_eikonal.gridscale*lap,\n",
    "                             stop = stop(niter_max=20,raise_on_abort=False,niter_print=every4))\n",
    "\n",
    "print()\n",
    "# Then refine the solution, with a weaker relaxation\n",
    "solution_upwind = newton_root(SchemeUpwind,solution_upwind,params,relax=ident,\n",
    "                              stop = stop(niter_print=every4)) \n",
    "\n",
    "plt.axis('equal'); plt.title(\"Riemannian eikonal equation\")\n",
    "plt.contourf(*X,solution_upwind);"
   ]
  },
  {
   "cell_type": "markdown",
   "metadata": {},
   "source": [
    "### 2.2 An eikonal equation of Rander type\n",
    "\n",
    "We solve a classical instance of Zermelo's navigation problem: $u(x)=T$ is the smallest time for which there exists a path $\\gamma : [0,T] \\to \\Omega$ such that \n",
    "$$\n",
    "    \\| \\gamma'(t) - \\eta(\\gamma(t))\\|_{M(\\gamma(t))} \\leq 1\n",
    "$$\n",
    "for all $0 \\leq t \\leq T$, and with the endpoint conditions $\\gamma(0) = x_0$ (the seed point) and $\\gamma(T)=x$.\n",
    "Here $M$ is a prescribed Riemannian metric, and $\\eta$ is a drift vector field. \n",
    "\n",
    "For well posedness, we require the problem to be locally controllable, which is the case provided \n",
    "$$\n",
    "\\| \\eta(x)\\|_{M(x)} < 1\n",
    "$$\n",
    "at all points of the domain."
   ]
  },
  {
   "cell_type": "code",
   "execution_count": 65,
   "metadata": {},
   "outputs": [],
   "source": [
    "# Choose the Riemannian metric and drift\n",
    "metric = bc_eikonal.as_field( np.eye(2))\n",
    "drift_max_speed = 0.8\n",
    "drift = drift_max_speed*np.sin(2*np.pi*X[0])*np.sin(2*np.pi*X[1]) * X / ad.Optimization.norm(X,ord=2,axis=0)"
   ]
  },
  {
   "cell_type": "code",
   "execution_count": 66,
   "metadata": {},
   "outputs": [],
   "source": [
    "def RanderDual(m,v):\n",
    "    s = lp.inverse(m-lp.outer_self(v))\n",
    "    w = lp.dot_AV(s,v)\n",
    "    return (s*(1+lp.dot_VV(v,w)),w)"
   ]
  },
  {
   "cell_type": "code",
   "execution_count": 67,
   "metadata": {},
   "outputs": [],
   "source": [
    "# Set the problem parameters\n",
    "D_Rander,omega_Rander = RanderDual(lp.inverse(metric),drift)\n",
    "D_Rander = lp.inverse(D_Rander)"
   ]
  },
  {
   "cell_type": "code",
   "execution_count": 68,
   "metadata": {},
   "outputs": [
    {
     "name": "stdout",
     "output_type": "stream",
     "text": [
      "Iteration: 1  Residue norm: 3.3779230090937844\n",
      "Iteration: 5  Residue norm: 782.332388146169\n",
      "Iteration: 9  Residue norm: 7.844631818162206\n",
      "Iteration: 13  Residue norm: 0.7264236353474347\n",
      "Iteration: 17  Residue norm: 0.23659580521164414\n",
      "Iteration: 20  Residue norm: 0.09804071441836837\n",
      "Max iterations exceeded. Aborting.\n",
      "\n",
      "Iteration: 1  Residue norm: 0.011436478442592879\n",
      "Iteration: 5  Residue norm: 0.0012592903006958256\n",
      "Iteration: 9  Residue norm: 7.933843450369515e-05\n",
      "Iteration: 13  Residue norm: 4.95868412153655e-06\n",
      "Iteration: 17  Residue norm: 3.099181191679179e-07\n",
      "Iteration: 21  Residue norm: 1.936986149253528e-08\n",
      "Iteration: 22  Residue norm: 9.6849650521591e-09\n",
      "Target residue reached. Terminating.\n"
     ]
    },
    {
     "data": {
      "image/png": "[encoded data removed]",
      "text/plain": [
       "<Figure size 432x288 with 1 Axes>"
      ]
     },
     "metadata": {
      "needs_background": "light"
     },
     "output_type": "display_data"
    }
   ],
   "source": [
    "params = (None,omega_Rander,D_Rander,bc_eikonal)\n",
    "solution_upwind = newton_root(SchemeUpwind,guess,params, # Zero guess\n",
    "                              relax=ident-bc_eikonal.gridscale*lap, # Laplacian in relaxation\n",
    "                       stop=stop(niter_max=20,raise_on_abort=False,niter_print=every4) )\n",
    "\n",
    "print()\n",
    "solution_upwind = newton_root(SchemeUpwind,solution_upwind,params, # Previous solution as guess\n",
    "                       relax=ident, stop=stop(niter_print=every4)) # Basic relaxation\n",
    "\n",
    "plt.axis('equal'); plt.title(\"Rander eikonal equation\")\n",
    "plt.contourf(*X,solution_upwind);"
   ]
  }
 ],
 "metadata": {
  "celltoolbar": "Format de la Cellule Texte Brut",
  "kernelspec": {
   "display_name": "Python 3",
   "language": "python",
   "name": "python3"
  },
  "language_info": {
   "codemirror_mode": {
    "name": "ipython",
    "version": 3
   },
   "file_extension": ".py",
   "mimetype": "text/x-python",
   "name": "python",
   "nbconvert_exporter": "python",
   "pygments_lexer": "ipython3",
   "version": "3.7.3"
  }
 },
 "nbformat": 4,
 "nbformat_minor": 2
}
